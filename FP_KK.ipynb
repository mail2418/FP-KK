{
  "cells": [
    {
      "cell_type": "markdown",
      "metadata": {
        "id": "75XwwWO-_qR1"
      },
      "source": [
        "# Kelompok\n",
        "**Muhammad Ismail - 5025201223**\n",
        "\n",
        "**Mochamad Revanza Kurniawan - 5025201145**\n",
        "\n",
        "**Muhammad Abhirama Damas - 5025201271**"
      ]
    },
    {
      "cell_type": "markdown",
      "metadata": {
        "id": "pYWZrXCf_4Zc"
      },
      "source": [
        "#Pengenalan\n",
        "\n",
        "1. Age\n",
        "  - 13-level age category (_AGEG5YR see codebook) 1 = 18-24, 9 = 60-64, 13 = 80 or older\n",
        "\n",
        "2. Sex\n",
        "  - 0 = female, 1 = male\n",
        "\n",
        "3. HighChol\n",
        "  - 0 = no high cholesterol, 1 = high cholesterol\n",
        "\n",
        "4. CholCheck\n",
        "  - 0 = no cholesterol check in 5 years, 1 = yes cholesterol check in 5 years\n",
        "\n",
        "5. BMI\n",
        "  - Body Mass Index\n",
        "\n",
        "6.  Smoker\n",
        "  - Have you smoked at least 100 cigarettes in your entire life? [Note: 5 packs = 100 cigarettes] 0 = no, 1 = yes\n",
        "\n",
        "7. HeartDisease\n",
        "  - coronary heart disease (CHD) or myocardial infarction (MI) 0 = no, 1 = yes\n",
        "\n",
        "8. PhysActivity\n",
        "  - physical activity in past 30 days - not including job 0 = no, 1 = yes\n",
        "\n",
        "9. Fruits\n",
        "  - Consume Fruit one or more times per day 0 = no, 1 = yes\n",
        "\n",
        "10. Veggies\n",
        "  - Consume Vegetables 1 or more times per day 0 = no, 1 = yes\n",
        "\n",
        "11. HvyAlcoholConsumption\n",
        "  - Adult male: more than 14 drinks per week. Adult female: more than 7 drinks per week. 0 = no, 1 = yes\n",
        "\n",
        "12. GenHlth\n",
        "  - Would you say that in general your health is: (scale 1-5) 1 = excellent, 2 = very good, 3 = good, 4 = fair, 5 = poor\n",
        "\n",
        "13. MentHlth\n",
        "  - days of poor mental health scale 1-30 days\n",
        "PhysHlth\n",
        "physical illness or injury days in past 30 days scale 1-30\n",
        "\n",
        "14. DiffWalk\n",
        "  - Do you have serious difficulty walking or climbing stairs? 0 = no, 1 = yes\n",
        "\n",
        "15. Hypertension\n",
        "- 0 = no hypertension, 1 = hypertension"
      ]
    },
    {
      "cell_type": "markdown",
      "metadata": {
        "id": "zlWfAZdZCFp3"
      },
      "source": [
        "# Import Library"
      ]
    },
    {
      "cell_type": "code",
      "execution_count": 1,
      "metadata": {
        "id": "yqGogtvEDMzs"
      },
      "outputs": [],
      "source": [
        "import numpy as np \n",
        "import pandas as pd\n",
        "import matplotlib.pyplot as plt\n",
        "%matplotlib inline\n",
        "import warnings\n",
        "warnings.filterwarnings(\"ignore\")\n",
        "import seaborn as sns\n",
        "from sklearn.preprocessing import StandardScaler\n",
        "from sklearn.model_selection import train_test_split\n",
        "from sklearn.ensemble import RandomForestClassifier\n",
        "from sklearn.ensemble import VotingClassifier\n",
        "from sklearn.ensemble import AdaBoostClassifier\n",
        "from sklearn.ensemble import BaggingClassifier\n",
        "from sklearn.ensemble import ExtraTreesClassifier\n",
        "from sklearn.ensemble import GradientBoostingClassifier\n",
        "from sklearn.tree import DecisionTreeClassifier\n",
        "from xgboost import XGBClassifier\n",
        "import graphviz \n",
        "from sklearn.linear_model import LogisticRegression\n",
        "from sklearn.svm import SVC\n",
        "from sklearn.tree import export_graphviz\n",
        "from google.colab import files\n",
        "from sklearn.metrics import precision_score, recall_score, f1_score, accuracy_score\n",
        "from sklearn.metrics import confusion_matrix,classification_report\n",
        "import pickle\n",
        "from imblearn.over_sampling import SMOTE"
      ]
    },
    {
      "cell_type": "markdown",
      "metadata": {
        "id": "wgaS-ttJCa8L"
      },
      "source": [
        "# Data Loading\n",
        "\n"
      ]
    },
    {
      "cell_type": "code",
      "execution_count": 2,
      "metadata": {
        "colab": {
          "base_uri": "https://localhost:8080/",
          "height": 270
        },
        "id": "S_-w4_FzuOF5",
        "outputId": "430025b3-4b30-4691-d015-259c46f38fd3"
      },
      "outputs": [
        {
          "output_type": "execute_result",
          "data": {
            "text/plain": [
              "    Age  Sex  HighChol  CholCheck   BMI  Smoker  HeartDiseaseorAttack  \\\n",
              "0   4.0  1.0       0.0        1.0  26.0     0.0                   0.0   \n",
              "1  12.0  1.0       1.0        1.0  26.0     1.0                   0.0   \n",
              "2  13.0  1.0       0.0        1.0  26.0     0.0                   0.0   \n",
              "3  11.0  1.0       1.0        1.0  28.0     1.0                   0.0   \n",
              "4   8.0  0.0       0.0        1.0  29.0     1.0                   0.0   \n",
              "\n",
              "   PhysActivity  Fruits  Veggies  HvyAlcoholConsump  GenHlth  MentHlth  \\\n",
              "0           1.0     0.0      1.0                0.0      3.0       5.0   \n",
              "1           0.0     1.0      0.0                0.0      3.0       0.0   \n",
              "2           1.0     1.0      1.0                0.0      1.0       0.0   \n",
              "3           1.0     1.0      1.0                0.0      3.0       0.0   \n",
              "4           1.0     1.0      1.0                0.0      2.0       0.0   \n",
              "\n",
              "   PhysHlth  DiffWalk  Diabetes  Hypertension  Stroke  \n",
              "0      30.0       0.0       0.0           1.0     0.0  \n",
              "1       0.0       0.0       0.0           1.0     1.0  \n",
              "2      10.0       0.0       0.0           0.0     0.0  \n",
              "3       3.0       0.0       0.0           1.0     0.0  \n",
              "4       0.0       0.0       0.0           0.0     0.0  "
            ],
            "text/html": [
              "\n",
              "  <div id=\"df-2c244cd1-6562-4558-8d72-284d28416a65\">\n",
              "    <div class=\"colab-df-container\">\n",
              "      <div>\n",
              "<style scoped>\n",
              "    .dataframe tbody tr th:only-of-type {\n",
              "        vertical-align: middle;\n",
              "    }\n",
              "\n",
              "    .dataframe tbody tr th {\n",
              "        vertical-align: top;\n",
              "    }\n",
              "\n",
              "    .dataframe thead th {\n",
              "        text-align: right;\n",
              "    }\n",
              "</style>\n",
              "<table border=\"1\" class=\"dataframe\">\n",
              "  <thead>\n",
              "    <tr style=\"text-align: right;\">\n",
              "      <th></th>\n",
              "      <th>Age</th>\n",
              "      <th>Sex</th>\n",
              "      <th>HighChol</th>\n",
              "      <th>CholCheck</th>\n",
              "      <th>BMI</th>\n",
              "      <th>Smoker</th>\n",
              "      <th>HeartDiseaseorAttack</th>\n",
              "      <th>PhysActivity</th>\n",
              "      <th>Fruits</th>\n",
              "      <th>Veggies</th>\n",
              "      <th>HvyAlcoholConsump</th>\n",
              "      <th>GenHlth</th>\n",
              "      <th>MentHlth</th>\n",
              "      <th>PhysHlth</th>\n",
              "      <th>DiffWalk</th>\n",
              "      <th>Diabetes</th>\n",
              "      <th>Hypertension</th>\n",
              "      <th>Stroke</th>\n",
              "    </tr>\n",
              "  </thead>\n",
              "  <tbody>\n",
              "    <tr>\n",
              "      <th>0</th>\n",
              "      <td>4.0</td>\n",
              "      <td>1.0</td>\n",
              "      <td>0.0</td>\n",
              "      <td>1.0</td>\n",
              "      <td>26.0</td>\n",
              "      <td>0.0</td>\n",
              "      <td>0.0</td>\n",
              "      <td>1.0</td>\n",
              "      <td>0.0</td>\n",
              "      <td>1.0</td>\n",
              "      <td>0.0</td>\n",
              "      <td>3.0</td>\n",
              "      <td>5.0</td>\n",
              "      <td>30.0</td>\n",
              "      <td>0.0</td>\n",
              "      <td>0.0</td>\n",
              "      <td>1.0</td>\n",
              "      <td>0.0</td>\n",
              "    </tr>\n",
              "    <tr>\n",
              "      <th>1</th>\n",
              "      <td>12.0</td>\n",
              "      <td>1.0</td>\n",
              "      <td>1.0</td>\n",
              "      <td>1.0</td>\n",
              "      <td>26.0</td>\n",
              "      <td>1.0</td>\n",
              "      <td>0.0</td>\n",
              "      <td>0.0</td>\n",
              "      <td>1.0</td>\n",
              "      <td>0.0</td>\n",
              "      <td>0.0</td>\n",
              "      <td>3.0</td>\n",
              "      <td>0.0</td>\n",
              "      <td>0.0</td>\n",
              "      <td>0.0</td>\n",
              "      <td>0.0</td>\n",
              "      <td>1.0</td>\n",
              "      <td>1.0</td>\n",
              "    </tr>\n",
              "    <tr>\n",
              "      <th>2</th>\n",
              "      <td>13.0</td>\n",
              "      <td>1.0</td>\n",
              "      <td>0.0</td>\n",
              "      <td>1.0</td>\n",
              "      <td>26.0</td>\n",
              "      <td>0.0</td>\n",
              "      <td>0.0</td>\n",
              "      <td>1.0</td>\n",
              "      <td>1.0</td>\n",
              "      <td>1.0</td>\n",
              "      <td>0.0</td>\n",
              "      <td>1.0</td>\n",
              "      <td>0.0</td>\n",
              "      <td>10.0</td>\n",
              "      <td>0.0</td>\n",
              "      <td>0.0</td>\n",
              "      <td>0.0</td>\n",
              "      <td>0.0</td>\n",
              "    </tr>\n",
              "    <tr>\n",
              "      <th>3</th>\n",
              "      <td>11.0</td>\n",
              "      <td>1.0</td>\n",
              "      <td>1.0</td>\n",
              "      <td>1.0</td>\n",
              "      <td>28.0</td>\n",
              "      <td>1.0</td>\n",
              "      <td>0.0</td>\n",
              "      <td>1.0</td>\n",
              "      <td>1.0</td>\n",
              "      <td>1.0</td>\n",
              "      <td>0.0</td>\n",
              "      <td>3.0</td>\n",
              "      <td>0.0</td>\n",
              "      <td>3.0</td>\n",
              "      <td>0.0</td>\n",
              "      <td>0.0</td>\n",
              "      <td>1.0</td>\n",
              "      <td>0.0</td>\n",
              "    </tr>\n",
              "    <tr>\n",
              "      <th>4</th>\n",
              "      <td>8.0</td>\n",
              "      <td>0.0</td>\n",
              "      <td>0.0</td>\n",
              "      <td>1.0</td>\n",
              "      <td>29.0</td>\n",
              "      <td>1.0</td>\n",
              "      <td>0.0</td>\n",
              "      <td>1.0</td>\n",
              "      <td>1.0</td>\n",
              "      <td>1.0</td>\n",
              "      <td>0.0</td>\n",
              "      <td>2.0</td>\n",
              "      <td>0.0</td>\n",
              "      <td>0.0</td>\n",
              "      <td>0.0</td>\n",
              "      <td>0.0</td>\n",
              "      <td>0.0</td>\n",
              "      <td>0.0</td>\n",
              "    </tr>\n",
              "  </tbody>\n",
              "</table>\n",
              "</div>\n",
              "      <button class=\"colab-df-convert\" onclick=\"convertToInteractive('df-2c244cd1-6562-4558-8d72-284d28416a65')\"\n",
              "              title=\"Convert this dataframe to an interactive table.\"\n",
              "              style=\"display:none;\">\n",
              "        \n",
              "  <svg xmlns=\"http://www.w3.org/2000/svg\" height=\"24px\"viewBox=\"0 0 24 24\"\n",
              "       width=\"24px\">\n",
              "    <path d=\"M0 0h24v24H0V0z\" fill=\"none\"/>\n",
              "    <path d=\"M18.56 5.44l.94 2.06.94-2.06 2.06-.94-2.06-.94-.94-2.06-.94 2.06-2.06.94zm-11 1L8.5 8.5l.94-2.06 2.06-.94-2.06-.94L8.5 2.5l-.94 2.06-2.06.94zm10 10l.94 2.06.94-2.06 2.06-.94-2.06-.94-.94-2.06-.94 2.06-2.06.94z\"/><path d=\"M17.41 7.96l-1.37-1.37c-.4-.4-.92-.59-1.43-.59-.52 0-1.04.2-1.43.59L10.3 9.45l-7.72 7.72c-.78.78-.78 2.05 0 2.83L4 21.41c.39.39.9.59 1.41.59.51 0 1.02-.2 1.41-.59l7.78-7.78 2.81-2.81c.8-.78.8-2.07 0-2.86zM5.41 20L4 18.59l7.72-7.72 1.47 1.35L5.41 20z\"/>\n",
              "  </svg>\n",
              "      </button>\n",
              "      \n",
              "  <style>\n",
              "    .colab-df-container {\n",
              "      display:flex;\n",
              "      flex-wrap:wrap;\n",
              "      gap: 12px;\n",
              "    }\n",
              "\n",
              "    .colab-df-convert {\n",
              "      background-color: #E8F0FE;\n",
              "      border: none;\n",
              "      border-radius: 50%;\n",
              "      cursor: pointer;\n",
              "      display: none;\n",
              "      fill: #1967D2;\n",
              "      height: 32px;\n",
              "      padding: 0 0 0 0;\n",
              "      width: 32px;\n",
              "    }\n",
              "\n",
              "    .colab-df-convert:hover {\n",
              "      background-color: #E2EBFA;\n",
              "      box-shadow: 0px 1px 2px rgba(60, 64, 67, 0.3), 0px 1px 3px 1px rgba(60, 64, 67, 0.15);\n",
              "      fill: #174EA6;\n",
              "    }\n",
              "\n",
              "    [theme=dark] .colab-df-convert {\n",
              "      background-color: #3B4455;\n",
              "      fill: #D2E3FC;\n",
              "    }\n",
              "\n",
              "    [theme=dark] .colab-df-convert:hover {\n",
              "      background-color: #434B5C;\n",
              "      box-shadow: 0px 1px 3px 1px rgba(0, 0, 0, 0.15);\n",
              "      filter: drop-shadow(0px 1px 2px rgba(0, 0, 0, 0.3));\n",
              "      fill: #FFFFFF;\n",
              "    }\n",
              "  </style>\n",
              "\n",
              "      <script>\n",
              "        const buttonEl =\n",
              "          document.querySelector('#df-2c244cd1-6562-4558-8d72-284d28416a65 button.colab-df-convert');\n",
              "        buttonEl.style.display =\n",
              "          google.colab.kernel.accessAllowed ? 'block' : 'none';\n",
              "\n",
              "        async function convertToInteractive(key) {\n",
              "          const element = document.querySelector('#df-2c244cd1-6562-4558-8d72-284d28416a65');\n",
              "          const dataTable =\n",
              "            await google.colab.kernel.invokeFunction('convertToInteractive',\n",
              "                                                     [key], {});\n",
              "          if (!dataTable) return;\n",
              "\n",
              "          const docLinkHtml = 'Like what you see? Visit the ' +\n",
              "            '<a target=\"_blank\" href=https://colab.research.google.com/notebooks/data_table.ipynb>data table notebook</a>'\n",
              "            + ' to learn more about interactive tables.';\n",
              "          element.innerHTML = '';\n",
              "          dataTable['output_type'] = 'display_data';\n",
              "          await google.colab.output.renderOutput(dataTable, element);\n",
              "          const docLink = document.createElement('div');\n",
              "          docLink.innerHTML = docLinkHtml;\n",
              "          element.appendChild(docLink);\n",
              "        }\n",
              "      </script>\n",
              "    </div>\n",
              "  </div>\n",
              "  "
            ]
          },
          "metadata": {},
          "execution_count": 2
        }
      ],
      "source": [
        "df = pd.read_csv('/content/health_data.csv')\n",
        "df.head()"
      ]
    },
    {
      "cell_type": "markdown",
      "metadata": {
        "id": "5BXUfuUGCe5M"
      },
      "source": [
        "# Data Cleaning - Rev"
      ]
    },
    {
      "cell_type": "code",
      "execution_count": 3,
      "metadata": {
        "colab": {
          "base_uri": "https://localhost:8080/",
          "height": 798
        },
        "id": "gu3kB9WNdo6K",
        "outputId": "1ffb1b40-5b49-4b47-8a45-103a4a91cff3"
      },
      "outputs": [
        {
          "output_type": "stream",
          "name": "stdout",
          "text": [
            "<class 'pandas.core.frame.DataFrame'>\n",
            "RangeIndex: 70692 entries, 0 to 70691\n",
            "Data columns (total 18 columns):\n",
            " #   Column                Non-Null Count  Dtype  \n",
            "---  ------                --------------  -----  \n",
            " 0   Age                   70692 non-null  float64\n",
            " 1   Sex                   70692 non-null  float64\n",
            " 2   HighChol              70692 non-null  float64\n",
            " 3   CholCheck             70692 non-null  float64\n",
            " 4   BMI                   70692 non-null  float64\n",
            " 5   Smoker                70692 non-null  float64\n",
            " 6   HeartDiseaseorAttack  70692 non-null  float64\n",
            " 7   PhysActivity          70692 non-null  float64\n",
            " 8   Fruits                70692 non-null  float64\n",
            " 9   Veggies               70692 non-null  float64\n",
            " 10  HvyAlcoholConsump     70692 non-null  float64\n",
            " 11  GenHlth               70692 non-null  float64\n",
            " 12  MentHlth              70692 non-null  float64\n",
            " 13  PhysHlth              70692 non-null  float64\n",
            " 14  DiffWalk              70692 non-null  float64\n",
            " 15  Diabetes              70692 non-null  float64\n",
            " 16  Hypertension          70692 non-null  float64\n",
            " 17  Stroke                70692 non-null  float64\n",
            "dtypes: float64(18)\n",
            "memory usage: 9.7 MB\n"
          ]
        },
        {
          "output_type": "execute_result",
          "data": {
            "text/plain": [
              "                Age           Sex      HighChol     CholCheck           BMI  \\\n",
              "count  70692.000000  70692.000000  70692.000000  70692.000000  70692.000000   \n",
              "mean       8.584055      0.456997      0.525703      0.975259     29.856985   \n",
              "std        2.852153      0.498151      0.499342      0.155336      7.113954   \n",
              "min        1.000000      0.000000      0.000000      0.000000     12.000000   \n",
              "25%        7.000000      0.000000      0.000000      1.000000     25.000000   \n",
              "50%        9.000000      0.000000      1.000000      1.000000     29.000000   \n",
              "75%       11.000000      1.000000      1.000000      1.000000     33.000000   \n",
              "max       13.000000      1.000000      1.000000      1.000000     98.000000   \n",
              "\n",
              "             Smoker  HeartDiseaseorAttack       GenHlth      MentHlth  \\\n",
              "count  70692.000000          70692.000000  70692.000000  70692.000000   \n",
              "mean       0.475273              0.147810      2.837082      3.752037   \n",
              "std        0.499392              0.354914      1.113565      8.155627   \n",
              "min        0.000000              0.000000      1.000000      0.000000   \n",
              "25%        0.000000              0.000000      2.000000      0.000000   \n",
              "50%        0.000000              0.000000      3.000000      0.000000   \n",
              "75%        1.000000              0.000000      4.000000      2.000000   \n",
              "max        1.000000              1.000000      5.000000     30.000000   \n",
              "\n",
              "           PhysHlth      DiffWalk  Hypertension  \n",
              "count  70692.000000  70692.000000  70692.000000  \n",
              "mean       5.810417      0.252730      0.563458  \n",
              "std       10.062261      0.434581      0.495960  \n",
              "min        0.000000      0.000000      0.000000  \n",
              "25%        0.000000      0.000000      0.000000  \n",
              "50%        0.000000      0.000000      1.000000  \n",
              "75%        6.000000      1.000000      1.000000  \n",
              "max       30.000000      1.000000      1.000000  "
            ],
            "text/html": [
              "\n",
              "  <div id=\"df-474efc83-d9b4-4e73-9c9f-3089eac2331c\">\n",
              "    <div class=\"colab-df-container\">\n",
              "      <div>\n",
              "<style scoped>\n",
              "    .dataframe tbody tr th:only-of-type {\n",
              "        vertical-align: middle;\n",
              "    }\n",
              "\n",
              "    .dataframe tbody tr th {\n",
              "        vertical-align: top;\n",
              "    }\n",
              "\n",
              "    .dataframe thead th {\n",
              "        text-align: right;\n",
              "    }\n",
              "</style>\n",
              "<table border=\"1\" class=\"dataframe\">\n",
              "  <thead>\n",
              "    <tr style=\"text-align: right;\">\n",
              "      <th></th>\n",
              "      <th>Age</th>\n",
              "      <th>Sex</th>\n",
              "      <th>HighChol</th>\n",
              "      <th>CholCheck</th>\n",
              "      <th>BMI</th>\n",
              "      <th>Smoker</th>\n",
              "      <th>HeartDiseaseorAttack</th>\n",
              "      <th>GenHlth</th>\n",
              "      <th>MentHlth</th>\n",
              "      <th>PhysHlth</th>\n",
              "      <th>DiffWalk</th>\n",
              "      <th>Hypertension</th>\n",
              "    </tr>\n",
              "  </thead>\n",
              "  <tbody>\n",
              "    <tr>\n",
              "      <th>count</th>\n",
              "      <td>70692.000000</td>\n",
              "      <td>70692.000000</td>\n",
              "      <td>70692.000000</td>\n",
              "      <td>70692.000000</td>\n",
              "      <td>70692.000000</td>\n",
              "      <td>70692.000000</td>\n",
              "      <td>70692.000000</td>\n",
              "      <td>70692.000000</td>\n",
              "      <td>70692.000000</td>\n",
              "      <td>70692.000000</td>\n",
              "      <td>70692.000000</td>\n",
              "      <td>70692.000000</td>\n",
              "    </tr>\n",
              "    <tr>\n",
              "      <th>mean</th>\n",
              "      <td>8.584055</td>\n",
              "      <td>0.456997</td>\n",
              "      <td>0.525703</td>\n",
              "      <td>0.975259</td>\n",
              "      <td>29.856985</td>\n",
              "      <td>0.475273</td>\n",
              "      <td>0.147810</td>\n",
              "      <td>2.837082</td>\n",
              "      <td>3.752037</td>\n",
              "      <td>5.810417</td>\n",
              "      <td>0.252730</td>\n",
              "      <td>0.563458</td>\n",
              "    </tr>\n",
              "    <tr>\n",
              "      <th>std</th>\n",
              "      <td>2.852153</td>\n",
              "      <td>0.498151</td>\n",
              "      <td>0.499342</td>\n",
              "      <td>0.155336</td>\n",
              "      <td>7.113954</td>\n",
              "      <td>0.499392</td>\n",
              "      <td>0.354914</td>\n",
              "      <td>1.113565</td>\n",
              "      <td>8.155627</td>\n",
              "      <td>10.062261</td>\n",
              "      <td>0.434581</td>\n",
              "      <td>0.495960</td>\n",
              "    </tr>\n",
              "    <tr>\n",
              "      <th>min</th>\n",
              "      <td>1.000000</td>\n",
              "      <td>0.000000</td>\n",
              "      <td>0.000000</td>\n",
              "      <td>0.000000</td>\n",
              "      <td>12.000000</td>\n",
              "      <td>0.000000</td>\n",
              "      <td>0.000000</td>\n",
              "      <td>1.000000</td>\n",
              "      <td>0.000000</td>\n",
              "      <td>0.000000</td>\n",
              "      <td>0.000000</td>\n",
              "      <td>0.000000</td>\n",
              "    </tr>\n",
              "    <tr>\n",
              "      <th>25%</th>\n",
              "      <td>7.000000</td>\n",
              "      <td>0.000000</td>\n",
              "      <td>0.000000</td>\n",
              "      <td>1.000000</td>\n",
              "      <td>25.000000</td>\n",
              "      <td>0.000000</td>\n",
              "      <td>0.000000</td>\n",
              "      <td>2.000000</td>\n",
              "      <td>0.000000</td>\n",
              "      <td>0.000000</td>\n",
              "      <td>0.000000</td>\n",
              "      <td>0.000000</td>\n",
              "    </tr>\n",
              "    <tr>\n",
              "      <th>50%</th>\n",
              "      <td>9.000000</td>\n",
              "      <td>0.000000</td>\n",
              "      <td>1.000000</td>\n",
              "      <td>1.000000</td>\n",
              "      <td>29.000000</td>\n",
              "      <td>0.000000</td>\n",
              "      <td>0.000000</td>\n",
              "      <td>3.000000</td>\n",
              "      <td>0.000000</td>\n",
              "      <td>0.000000</td>\n",
              "      <td>0.000000</td>\n",
              "      <td>1.000000</td>\n",
              "    </tr>\n",
              "    <tr>\n",
              "      <th>75%</th>\n",
              "      <td>11.000000</td>\n",
              "      <td>1.000000</td>\n",
              "      <td>1.000000</td>\n",
              "      <td>1.000000</td>\n",
              "      <td>33.000000</td>\n",
              "      <td>1.000000</td>\n",
              "      <td>0.000000</td>\n",
              "      <td>4.000000</td>\n",
              "      <td>2.000000</td>\n",
              "      <td>6.000000</td>\n",
              "      <td>1.000000</td>\n",
              "      <td>1.000000</td>\n",
              "    </tr>\n",
              "    <tr>\n",
              "      <th>max</th>\n",
              "      <td>13.000000</td>\n",
              "      <td>1.000000</td>\n",
              "      <td>1.000000</td>\n",
              "      <td>1.000000</td>\n",
              "      <td>98.000000</td>\n",
              "      <td>1.000000</td>\n",
              "      <td>1.000000</td>\n",
              "      <td>5.000000</td>\n",
              "      <td>30.000000</td>\n",
              "      <td>30.000000</td>\n",
              "      <td>1.000000</td>\n",
              "      <td>1.000000</td>\n",
              "    </tr>\n",
              "  </tbody>\n",
              "</table>\n",
              "</div>\n",
              "      <button class=\"colab-df-convert\" onclick=\"convertToInteractive('df-474efc83-d9b4-4e73-9c9f-3089eac2331c')\"\n",
              "              title=\"Convert this dataframe to an interactive table.\"\n",
              "              style=\"display:none;\">\n",
              "        \n",
              "  <svg xmlns=\"http://www.w3.org/2000/svg\" height=\"24px\"viewBox=\"0 0 24 24\"\n",
              "       width=\"24px\">\n",
              "    <path d=\"M0 0h24v24H0V0z\" fill=\"none\"/>\n",
              "    <path d=\"M18.56 5.44l.94 2.06.94-2.06 2.06-.94-2.06-.94-.94-2.06-.94 2.06-2.06.94zm-11 1L8.5 8.5l.94-2.06 2.06-.94-2.06-.94L8.5 2.5l-.94 2.06-2.06.94zm10 10l.94 2.06.94-2.06 2.06-.94-2.06-.94-.94-2.06-.94 2.06-2.06.94z\"/><path d=\"M17.41 7.96l-1.37-1.37c-.4-.4-.92-.59-1.43-.59-.52 0-1.04.2-1.43.59L10.3 9.45l-7.72 7.72c-.78.78-.78 2.05 0 2.83L4 21.41c.39.39.9.59 1.41.59.51 0 1.02-.2 1.41-.59l7.78-7.78 2.81-2.81c.8-.78.8-2.07 0-2.86zM5.41 20L4 18.59l7.72-7.72 1.47 1.35L5.41 20z\"/>\n",
              "  </svg>\n",
              "      </button>\n",
              "      \n",
              "  <style>\n",
              "    .colab-df-container {\n",
              "      display:flex;\n",
              "      flex-wrap:wrap;\n",
              "      gap: 12px;\n",
              "    }\n",
              "\n",
              "    .colab-df-convert {\n",
              "      background-color: #E8F0FE;\n",
              "      border: none;\n",
              "      border-radius: 50%;\n",
              "      cursor: pointer;\n",
              "      display: none;\n",
              "      fill: #1967D2;\n",
              "      height: 32px;\n",
              "      padding: 0 0 0 0;\n",
              "      width: 32px;\n",
              "    }\n",
              "\n",
              "    .colab-df-convert:hover {\n",
              "      background-color: #E2EBFA;\n",
              "      box-shadow: 0px 1px 2px rgba(60, 64, 67, 0.3), 0px 1px 3px 1px rgba(60, 64, 67, 0.15);\n",
              "      fill: #174EA6;\n",
              "    }\n",
              "\n",
              "    [theme=dark] .colab-df-convert {\n",
              "      background-color: #3B4455;\n",
              "      fill: #D2E3FC;\n",
              "    }\n",
              "\n",
              "    [theme=dark] .colab-df-convert:hover {\n",
              "      background-color: #434B5C;\n",
              "      box-shadow: 0px 1px 3px 1px rgba(0, 0, 0, 0.15);\n",
              "      filter: drop-shadow(0px 1px 2px rgba(0, 0, 0, 0.3));\n",
              "      fill: #FFFFFF;\n",
              "    }\n",
              "  </style>\n",
              "\n",
              "      <script>\n",
              "        const buttonEl =\n",
              "          document.querySelector('#df-474efc83-d9b4-4e73-9c9f-3089eac2331c button.colab-df-convert');\n",
              "        buttonEl.style.display =\n",
              "          google.colab.kernel.accessAllowed ? 'block' : 'none';\n",
              "\n",
              "        async function convertToInteractive(key) {\n",
              "          const element = document.querySelector('#df-474efc83-d9b4-4e73-9c9f-3089eac2331c');\n",
              "          const dataTable =\n",
              "            await google.colab.kernel.invokeFunction('convertToInteractive',\n",
              "                                                     [key], {});\n",
              "          if (!dataTable) return;\n",
              "\n",
              "          const docLinkHtml = 'Like what you see? Visit the ' +\n",
              "            '<a target=\"_blank\" href=https://colab.research.google.com/notebooks/data_table.ipynb>data table notebook</a>'\n",
              "            + ' to learn more about interactive tables.';\n",
              "          element.innerHTML = '';\n",
              "          dataTable['output_type'] = 'display_data';\n",
              "          await google.colab.output.renderOutput(dataTable, element);\n",
              "          const docLink = document.createElement('div');\n",
              "          docLink.innerHTML = docLinkHtml;\n",
              "          element.appendChild(docLink);\n",
              "        }\n",
              "      </script>\n",
              "    </div>\n",
              "  </div>\n",
              "  "
            ]
          },
          "metadata": {},
          "execution_count": 3
        }
      ],
      "source": [
        "df.info()\n",
        "new_df = df.copy()\n",
        "new_df.drop(columns=['Stroke','Diabetes','PhysActivity','HvyAlcoholConsump', 'Fruits', 'Veggies'], inplace=True)\n",
        "new_df.describe()"
      ]
    },
    {
      "cell_type": "code",
      "execution_count": 4,
      "metadata": {
        "colab": {
          "base_uri": "https://localhost:8080/"
        },
        "id": "SYoWydQ1ipiC",
        "outputId": "d123e8dc-63a0-4e23-c716-265903ae9bd4"
      },
      "outputs": [
        {
          "output_type": "execute_result",
          "data": {
            "text/plain": [
              "Age                     0\n",
              "Sex                     0\n",
              "HighChol                0\n",
              "CholCheck               0\n",
              "BMI                     0\n",
              "Smoker                  0\n",
              "HeartDiseaseorAttack    0\n",
              "GenHlth                 0\n",
              "MentHlth                0\n",
              "PhysHlth                0\n",
              "DiffWalk                0\n",
              "Hypertension            0\n",
              "dtype: int64"
            ]
          },
          "metadata": {},
          "execution_count": 4
        }
      ],
      "source": [
        "new_df.isnull().sum()"
      ]
    },
    {
      "cell_type": "code",
      "execution_count": 5,
      "metadata": {
        "colab": {
          "base_uri": "https://localhost:8080/",
          "height": 695
        },
        "id": "MATd4H8-dvbp",
        "outputId": "6c091cf6-e4ed-4161-adc0-a03775fce939"
      },
      "outputs": [
        {
          "output_type": "display_data",
          "data": {
            "text/plain": [
              "<Figure size 1152x720 with 2 Axes>"
            ],
            "image/png": "[encoded data removed]"
          },
          "metadata": {
            "needs_background": "light"
          }
        }
      ],
      "source": [
        "plt.figure(figsize=(16,10))\n",
        "sns.heatmap(new_df.corr(), vmin=-1, vmax=1, annot=True)"
      ]
    },
    {
      "cell_type": "markdown",
      "metadata": {
        "id": "sCJTzo9DCgZL"
      },
      "source": [
        "# EDA - Mael"
      ]
    },
    {
      "cell_type": "code",
      "source": [
        "df_EDA = new_df.copy()"
      ],
      "metadata": {
        "id": "pvf3k7c44VX5"
      },
      "execution_count": 38,
      "outputs": []
    },
    {
      "cell_type": "markdown",
      "source": [
        "## Bar Plot"
      ],
      "metadata": {
        "id": "RqyUL1PrCJd-"
      }
    },
    {
      "cell_type": "code",
      "source": [
        "barplot_df = df_EDA[['Sex','HighChol','Smoker','HeartDiseaseorAttack']]\n",
        "barplot_df.head()"
      ],
      "metadata": {
        "colab": {
          "base_uri": "https://localhost:8080/",
          "height": 206
        },
        "id": "58L2CwEtCgRl",
        "outputId": "7702fd69-f9ee-43ba-e701-5768fce2f58a"
      },
      "execution_count": 49,
      "outputs": [
        {
          "output_type": "execute_result",
          "data": {
            "text/plain": [
              "   Sex  HighChol  Smoker  HeartDiseaseorAttack\n",
              "0  1.0       0.0     0.0                   0.0\n",
              "1  1.0       1.0     1.0                   0.0\n",
              "2  1.0       0.0     0.0                   0.0\n",
              "3  1.0       1.0     1.0                   0.0\n",
              "4  0.0       0.0     1.0                   0.0"
            ],
            "text/html": [
              "\n",
              "  <div id=\"df-6819f088-f2bb-4eea-bb6e-633c31c2662b\">\n",
              "    <div class=\"colab-df-container\">\n",
              "      <div>\n",
              "<style scoped>\n",
              "    .dataframe tbody tr th:only-of-type {\n",
              "        vertical-align: middle;\n",
              "    }\n",
              "\n",
              "    .dataframe tbody tr th {\n",
              "        vertical-align: top;\n",
              "    }\n",
              "\n",
              "    .dataframe thead th {\n",
              "        text-align: right;\n",
              "    }\n",
              "</style>\n",
              "<table border=\"1\" class=\"dataframe\">\n",
              "  <thead>\n",
              "    <tr style=\"text-align: right;\">\n",
              "      <th></th>\n",
              "      <th>Sex</th>\n",
              "      <th>HighChol</th>\n",
              "      <th>Smoker</th>\n",
              "      <th>HeartDiseaseorAttack</th>\n",
              "    </tr>\n",
              "  </thead>\n",
              "  <tbody>\n",
              "    <tr>\n",
              "      <th>0</th>\n",
              "      <td>1.0</td>\n",
              "      <td>0.0</td>\n",
              "      <td>0.0</td>\n",
              "      <td>0.0</td>\n",
              "    </tr>\n",
              "    <tr>\n",
              "      <th>1</th>\n",
              "      <td>1.0</td>\n",
              "      <td>1.0</td>\n",
              "      <td>1.0</td>\n",
              "      <td>0.0</td>\n",
              "    </tr>\n",
              "    <tr>\n",
              "      <th>2</th>\n",
              "      <td>1.0</td>\n",
              "      <td>0.0</td>\n",
              "      <td>0.0</td>\n",
              "      <td>0.0</td>\n",
              "    </tr>\n",
              "    <tr>\n",
              "      <th>3</th>\n",
              "      <td>1.0</td>\n",
              "      <td>1.0</td>\n",
              "      <td>1.0</td>\n",
              "      <td>0.0</td>\n",
              "    </tr>\n",
              "    <tr>\n",
              "      <th>4</th>\n",
              "      <td>0.0</td>\n",
              "      <td>0.0</td>\n",
              "      <td>1.0</td>\n",
              "      <td>0.0</td>\n",
              "    </tr>\n",
              "  </tbody>\n",
              "</table>\n",
              "</div>\n",
              "      <button class=\"colab-df-convert\" onclick=\"convertToInteractive('df-6819f088-f2bb-4eea-bb6e-633c31c2662b')\"\n",
              "              title=\"Convert this dataframe to an interactive table.\"\n",
              "              style=\"display:none;\">\n",
              "        \n",
              "  <svg xmlns=\"http://www.w3.org/2000/svg\" height=\"24px\"viewBox=\"0 0 24 24\"\n",
              "       width=\"24px\">\n",
              "    <path d=\"M0 0h24v24H0V0z\" fill=\"none\"/>\n",
              "    <path d=\"M18.56 5.44l.94 2.06.94-2.06 2.06-.94-2.06-.94-.94-2.06-.94 2.06-2.06.94zm-11 1L8.5 8.5l.94-2.06 2.06-.94-2.06-.94L8.5 2.5l-.94 2.06-2.06.94zm10 10l.94 2.06.94-2.06 2.06-.94-2.06-.94-.94-2.06-.94 2.06-2.06.94z\"/><path d=\"M17.41 7.96l-1.37-1.37c-.4-.4-.92-.59-1.43-.59-.52 0-1.04.2-1.43.59L10.3 9.45l-7.72 7.72c-.78.78-.78 2.05 0 2.83L4 21.41c.39.39.9.59 1.41.59.51 0 1.02-.2 1.41-.59l7.78-7.78 2.81-2.81c.8-.78.8-2.07 0-2.86zM5.41 20L4 18.59l7.72-7.72 1.47 1.35L5.41 20z\"/>\n",
              "  </svg>\n",
              "      </button>\n",
              "      \n",
              "  <style>\n",
              "    .colab-df-container {\n",
              "      display:flex;\n",
              "      flex-wrap:wrap;\n",
              "      gap: 12px;\n",
              "    }\n",
              "\n",
              "    .colab-df-convert {\n",
              "      background-color: #E8F0FE;\n",
              "      border: none;\n",
              "      border-radius: 50%;\n",
              "      cursor: pointer;\n",
              "      display: none;\n",
              "      fill: #1967D2;\n",
              "      height: 32px;\n",
              "      padding: 0 0 0 0;\n",
              "      width: 32px;\n",
              "    }\n",
              "\n",
              "    .colab-df-convert:hover {\n",
              "      background-color: #E2EBFA;\n",
              "      box-shadow: 0px 1px 2px rgba(60, 64, 67, 0.3), 0px 1px 3px 1px rgba(60, 64, 67, 0.15);\n",
              "      fill: #174EA6;\n",
              "    }\n",
              "\n",
              "    [theme=dark] .colab-df-convert {\n",
              "      background-color: #3B4455;\n",
              "      fill: #D2E3FC;\n",
              "    }\n",
              "\n",
              "    [theme=dark] .colab-df-convert:hover {\n",
              "      background-color: #434B5C;\n",
              "      box-shadow: 0px 1px 3px 1px rgba(0, 0, 0, 0.15);\n",
              "      filter: drop-shadow(0px 1px 2px rgba(0, 0, 0, 0.3));\n",
              "      fill: #FFFFFF;\n",
              "    }\n",
              "  </style>\n",
              "\n",
              "      <script>\n",
              "        const buttonEl =\n",
              "          document.querySelector('#df-6819f088-f2bb-4eea-bb6e-633c31c2662b button.colab-df-convert');\n",
              "        buttonEl.style.display =\n",
              "          google.colab.kernel.accessAllowed ? 'block' : 'none';\n",
              "\n",
              "        async function convertToInteractive(key) {\n",
              "          const element = document.querySelector('#df-6819f088-f2bb-4eea-bb6e-633c31c2662b');\n",
              "          const dataTable =\n",
              "            await google.colab.kernel.invokeFunction('convertToInteractive',\n",
              "                                                     [key], {});\n",
              "          if (!dataTable) return;\n",
              "\n",
              "          const docLinkHtml = 'Like what you see? Visit the ' +\n",
              "            '<a target=\"_blank\" href=https://colab.research.google.com/notebooks/data_table.ipynb>data table notebook</a>'\n",
              "            + ' to learn more about interactive tables.';\n",
              "          element.innerHTML = '';\n",
              "          dataTable['output_type'] = 'display_data';\n",
              "          await google.colab.output.renderOutput(dataTable, element);\n",
              "          const docLink = document.createElement('div');\n",
              "          docLink.innerHTML = docLinkHtml;\n",
              "          element.appendChild(docLink);\n",
              "        }\n",
              "      </script>\n",
              "    </div>\n",
              "  </div>\n",
              "  "
            ]
          },
          "metadata": {},
          "execution_count": 49
        }
      ]
    },
    {
      "cell_type": "code",
      "source": [
        "group_1 = barplot_df.groupby(['Sex']).sum()\n",
        "group_1"
      ],
      "metadata": {
        "colab": {
          "base_uri": "https://localhost:8080/",
          "height": 143
        },
        "id": "Nkupq00nGJYV",
        "outputId": "57151f24-c8e8-4b5f-b603-c7ad15e3ef49"
      },
      "execution_count": 50,
      "outputs": [
        {
          "output_type": "execute_result",
          "data": {
            "text/plain": [
              "     HighChol   Smoker  HeartDiseaseorAttack\n",
              "Sex                                         \n",
              "0.0   19875.0  16272.0                4447.0\n",
              "1.0   17288.0  17326.0                6002.0"
            ],
            "text/html": [
              "\n",
              "  <div id=\"df-b3b798d9-8326-4f37-a8bb-954de06fbbd0\">\n",
              "    <div class=\"colab-df-container\">\n",
              "      <div>\n",
              "<style scoped>\n",
              "    .dataframe tbody tr th:only-of-type {\n",
              "        vertical-align: middle;\n",
              "    }\n",
              "\n",
              "    .dataframe tbody tr th {\n",
              "        vertical-align: top;\n",
              "    }\n",
              "\n",
              "    .dataframe thead th {\n",
              "        text-align: right;\n",
              "    }\n",
              "</style>\n",
              "<table border=\"1\" class=\"dataframe\">\n",
              "  <thead>\n",
              "    <tr style=\"text-align: right;\">\n",
              "      <th></th>\n",
              "      <th>HighChol</th>\n",
              "      <th>Smoker</th>\n",
              "      <th>HeartDiseaseorAttack</th>\n",
              "    </tr>\n",
              "    <tr>\n",
              "      <th>Sex</th>\n",
              "      <th></th>\n",
              "      <th></th>\n",
              "      <th></th>\n",
              "    </tr>\n",
              "  </thead>\n",
              "  <tbody>\n",
              "    <tr>\n",
              "      <th>0.0</th>\n",
              "      <td>19875.0</td>\n",
              "      <td>16272.0</td>\n",
              "      <td>4447.0</td>\n",
              "    </tr>\n",
              "    <tr>\n",
              "      <th>1.0</th>\n",
              "      <td>17288.0</td>\n",
              "      <td>17326.0</td>\n",
              "      <td>6002.0</td>\n",
              "    </tr>\n",
              "  </tbody>\n",
              "</table>\n",
              "</div>\n",
              "      <button class=\"colab-df-convert\" onclick=\"convertToInteractive('df-b3b798d9-8326-4f37-a8bb-954de06fbbd0')\"\n",
              "              title=\"Convert this dataframe to an interactive table.\"\n",
              "              style=\"display:none;\">\n",
              "        \n",
              "  <svg xmlns=\"http://www.w3.org/2000/svg\" height=\"24px\"viewBox=\"0 0 24 24\"\n",
              "       width=\"24px\">\n",
              "    <path d=\"M0 0h24v24H0V0z\" fill=\"none\"/>\n",
              "    <path d=\"M18.56 5.44l.94 2.06.94-2.06 2.06-.94-2.06-.94-.94-2.06-.94 2.06-2.06.94zm-11 1L8.5 8.5l.94-2.06 2.06-.94-2.06-.94L8.5 2.5l-.94 2.06-2.06.94zm10 10l.94 2.06.94-2.06 2.06-.94-2.06-.94-.94-2.06-.94 2.06-2.06.94z\"/><path d=\"M17.41 7.96l-1.37-1.37c-.4-.4-.92-.59-1.43-.59-.52 0-1.04.2-1.43.59L10.3 9.45l-7.72 7.72c-.78.78-.78 2.05 0 2.83L4 21.41c.39.39.9.59 1.41.59.51 0 1.02-.2 1.41-.59l7.78-7.78 2.81-2.81c.8-.78.8-2.07 0-2.86zM5.41 20L4 18.59l7.72-7.72 1.47 1.35L5.41 20z\"/>\n",
              "  </svg>\n",
              "      </button>\n",
              "      \n",
              "  <style>\n",
              "    .colab-df-container {\n",
              "      display:flex;\n",
              "      flex-wrap:wrap;\n",
              "      gap: 12px;\n",
              "    }\n",
              "\n",
              "    .colab-df-convert {\n",
              "      background-color: #E8F0FE;\n",
              "      border: none;\n",
              "      border-radius: 50%;\n",
              "      cursor: pointer;\n",
              "      display: none;\n",
              "      fill: #1967D2;\n",
              "      height: 32px;\n",
              "      padding: 0 0 0 0;\n",
              "      width: 32px;\n",
              "    }\n",
              "\n",
              "    .colab-df-convert:hover {\n",
              "      background-color: #E2EBFA;\n",
              "      box-shadow: 0px 1px 2px rgba(60, 64, 67, 0.3), 0px 1px 3px 1px rgba(60, 64, 67, 0.15);\n",
              "      fill: #174EA6;\n",
              "    }\n",
              "\n",
              "    [theme=dark] .colab-df-convert {\n",
              "      background-color: #3B4455;\n",
              "      fill: #D2E3FC;\n",
              "    }\n",
              "\n",
              "    [theme=dark] .colab-df-convert:hover {\n",
              "      background-color: #434B5C;\n",
              "      box-shadow: 0px 1px 3px 1px rgba(0, 0, 0, 0.15);\n",
              "      filter: drop-shadow(0px 1px 2px rgba(0, 0, 0, 0.3));\n",
              "      fill: #FFFFFF;\n",
              "    }\n",
              "  </style>\n",
              "\n",
              "      <script>\n",
              "        const buttonEl =\n",
              "          document.querySelector('#df-b3b798d9-8326-4f37-a8bb-954de06fbbd0 button.colab-df-convert');\n",
              "        buttonEl.style.display =\n",
              "          google.colab.kernel.accessAllowed ? 'block' : 'none';\n",
              "\n",
              "        async function convertToInteractive(key) {\n",
              "          const element = document.querySelector('#df-b3b798d9-8326-4f37-a8bb-954de06fbbd0');\n",
              "          const dataTable =\n",
              "            await google.colab.kernel.invokeFunction('convertToInteractive',\n",
              "                                                     [key], {});\n",
              "          if (!dataTable) return;\n",
              "\n",
              "          const docLinkHtml = 'Like what you see? Visit the ' +\n",
              "            '<a target=\"_blank\" href=https://colab.research.google.com/notebooks/data_table.ipynb>data table notebook</a>'\n",
              "            + ' to learn more about interactive tables.';\n",
              "          element.innerHTML = '';\n",
              "          dataTable['output_type'] = 'display_data';\n",
              "          await google.colab.output.renderOutput(dataTable, element);\n",
              "          const docLink = document.createElement('div');\n",
              "          docLink.innerHTML = docLinkHtml;\n",
              "          element.appendChild(docLink);\n",
              "        }\n",
              "      </script>\n",
              "    </div>\n",
              "  </div>\n",
              "  "
            ]
          },
          "metadata": {},
          "execution_count": 50
        }
      ]
    },
    {
      "cell_type": "code",
      "source": [
        "plt.figure(figsize=(20,15))\n",
        "plt.style.use('ggplot')\n",
        "group_1.plot(kind='bar',title='perbandingan perilaku tidak sehat yang diderita oleh pasien berdasarkan jenis kelamin')"
      ],
      "metadata": {
        "colab": {
          "base_uri": "https://localhost:8080/",
          "height": 340
        },
        "id": "QgEp5PPcE-nF",
        "outputId": "a5a62e9b-b628-4890-bc84-acdc2b38a698"
      },
      "execution_count": 52,
      "outputs": [
        {
          "output_type": "execute_result",
          "data": {
            "text/plain": [
              "<matplotlib.axes._subplots.AxesSubplot at 0x7f926de06d90>"
            ]
          },
          "metadata": {},
          "execution_count": 52
        },
        {
          "output_type": "display_data",
          "data": {
            "text/plain": [
              "<Figure size 1440x1080 with 0 Axes>"
            ]
          },
          "metadata": {}
        },
        {
          "output_type": "display_data",
          "data": {
            "text/plain": [
              "<Figure size 432x288 with 1 Axes>"
            ],
            "image/png": "[encoded data removed]"
          },
          "metadata": {}
        }
      ]
    },
    {
      "cell_type": "markdown",
      "source": [
        "Dari data tersebut, dapat didapatkan informasi bahwa perempuan cenderung mengonsumsi alkohol, sedangkan laki-laki cenderung merokok dan yang lebih banyak terkena penyakit jantung dibanding perempuan"
      ],
      "metadata": {
        "id": "c6uvjb_EIFrP"
      }
    },
    {
      "cell_type": "markdown",
      "source": [
        "## Histogram Plot"
      ],
      "metadata": {
        "id": "qCsn5_esCTGO"
      }
    },
    {
      "cell_type": "code",
      "source": [
        "fig,ax = plt.subplots(1,2, figsize=(16,10), constrained_layout = True)\n",
        "df_EDA['Age'].plot(kind='hist',ax=ax[0])\n",
        "ax[0].set_xlabel('Skala Umur')\n",
        "ax[0].set_title('Histogram Umur')\n",
        "df_EDA['BMI'].plot(kind='hist',ax=ax[1])\n",
        "ax[1].set_title('Histogram BMI')\n",
        "ax[1].set_xlabel('BMI')"
      ],
      "metadata": {
        "colab": {
          "base_uri": "https://localhost:8080/",
          "height": 782
        },
        "id": "Chh0EybUJ_UF",
        "outputId": "5cbf77c8-1847-420a-c690-b9eea8fe7c29"
      },
      "execution_count": 61,
      "outputs": [
        {
          "output_type": "execute_result",
          "data": {
            "text/plain": [
              "Text(0.5, 0, 'BMI')"
            ]
          },
          "metadata": {},
          "execution_count": 61
        },
        {
          "output_type": "display_data",
          "data": {
            "text/plain": [
              "<Figure size 1152x720 with 2 Axes>"
            ],
            "image/png": "[encoded data removed]"
          },
          "metadata": {}
        }
      ]
    },
    {
      "cell_type": "markdown",
      "source": [
        "Dari Histogram di atas, didapatkan informasi bahwa Pasien Kebanyakan berada di Skala Umur lebih dari 7  yang berarti pasien berumur 50 tahun ke atas. Sedangkan BMI Pasien kebanyakan berada di kisaran 30-40 yang mana berarti pasien menderita overweight hingga obesitas"
      ],
      "metadata": {
        "id": "UfiSv3bxMeit"
      }
    },
    {
      "cell_type": "markdown",
      "source": [
        "## Pier Chart"
      ],
      "metadata": {
        "id": "-WeuClpwCd3F"
      }
    },
    {
      "cell_type": "code",
      "source": [
        "plt.figure(figsize=(16,10))\n",
        "\n",
        "df_EDA['Hypertension'].value_counts().plot(\n",
        "    kind='pie',\n",
        "    autopct='%.2f%%',\n",
        "    shadow=False\n",
        ")\n",
        "plt.title('Persentase Hipertensi pada dataset')\n",
        "plt.ylabel('')"
      ],
      "metadata": {
        "colab": {
          "base_uri": "https://localhost:8080/",
          "height": 609
        },
        "id": "XTjnOIq6AHQH",
        "outputId": "5b9c2e0e-493d-480f-ee50-37062950e222"
      },
      "execution_count": 62,
      "outputs": [
        {
          "output_type": "execute_result",
          "data": {
            "text/plain": [
              "Text(0, 0.5, '')"
            ]
          },
          "metadata": {},
          "execution_count": 62
        },
        {
          "output_type": "display_data",
          "data": {
            "text/plain": [
              "<Figure size 1152x720 with 1 Axes>"
            ],
            "image/png": "[encoded data removed]"
          },
          "metadata": {}
        }
      ]
    },
    {
      "cell_type": "markdown",
      "source": [
        "Dari Pie Chart di atas, didapatkan informasi bahwa pasien di dataset cenderung mengalami hipertensi"
      ],
      "metadata": {
        "id": "wNCLD-eBOFG8"
      }
    },
    {
      "cell_type": "markdown",
      "metadata": {
        "id": "QqGrORQoCiXo"
      },
      "source": [
        "# Data Preprocessing - Damas"
      ]
    },
    {
      "cell_type": "markdown",
      "source": [
        "## Data Scaling"
      ],
      "metadata": {
        "id": "538ovYXMOy-T"
      }
    },
    {
      "cell_type": "code",
      "execution_count": 6,
      "metadata": {
        "id": "7ImsP7zisTGY"
      },
      "outputs": [],
      "source": [
        "new_df_scaled = new_df.copy()\n",
        "numerics = ['float64']\n",
        "new_df_scaled.drop(columns=['Hypertension'], inplace=True)\n",
        "scaler = StandardScaler()\n",
        "numeric_df = new_df_scaled.select_dtypes(include=numerics)\n",
        "for column in numeric_df.columns:\n",
        "  new_df_scaled[column] = scaler.fit_transform(new_df_scaled[column].values.reshape(-1,1))\n",
        "new_df_scaled['Hypertension'] = new_df['Hypertension']"
      ]
    },
    {
      "cell_type": "code",
      "execution_count": 7,
      "metadata": {
        "colab": {
          "base_uri": "https://localhost:8080/",
          "height": 468
        },
        "id": "NK3X9kuYtpWr",
        "outputId": "9c25e272-4241-4b90-8151-851d9c54ee24"
      },
      "outputs": [
        {
          "output_type": "execute_result",
          "data": {
            "text/plain": [
              "            Age       Sex  HighChol  CholCheck       BMI    Smoker  \\\n",
              "0     -1.607237  1.090046 -1.052798   0.159276 -0.542176 -0.951711   \n",
              "1      1.197681  1.090046  0.949850   0.159276 -0.542176  1.050740   \n",
              "2      1.548296  1.090046 -1.052798   0.159276 -0.542176 -0.951711   \n",
              "3      0.847066  1.090046  0.949850   0.159276 -0.261036  1.050740   \n",
              "4     -0.204778 -0.917392 -1.052798   0.159276 -0.120466  1.050740   \n",
              "...         ...       ...       ...        ...       ...       ...   \n",
              "70687 -0.906008 -0.917392  0.949850   0.159276  1.004092 -0.951711   \n",
              "70688  0.496451  1.090046  0.949850   0.159276 -0.120466  1.050740   \n",
              "70689  1.548296 -0.917392  0.949850   0.159276 -0.682745 -0.951711   \n",
              "70690  0.847066 -0.917392  0.949850   0.159276 -1.666734 -0.951711   \n",
              "70691  0.145837 -0.917392  0.949850   0.159276 -0.682745 -0.951711   \n",
              "\n",
              "       HeartDiseaseorAttack   GenHlth  MentHlth  PhysHlth  DiffWalk  \\\n",
              "0                 -0.416470  0.146304  0.153020  2.404008 -0.581554   \n",
              "1                 -0.416470  0.146304 -0.460058 -0.577451 -0.581554   \n",
              "2                 -0.416470 -1.649743 -0.460058  0.416369 -0.581554   \n",
              "3                 -0.416470  0.146304 -0.460058 -0.279305 -0.581554   \n",
              "4                 -0.416470 -0.751719 -0.460058 -0.577451 -0.581554   \n",
              "...                     ...       ...       ...       ...       ...   \n",
              "70687             -0.416470  1.044328 -0.460058 -0.577451 -0.581554   \n",
              "70688              2.401131 -0.751719 -0.460058 -0.577451  1.719532   \n",
              "70689              2.401131  1.942351  1.379176 -0.577451  1.719532   \n",
              "70690             -0.416470  1.044328 -0.460058 -0.577451  1.719532   \n",
              "70691              2.401131 -0.751719 -0.460058 -0.577451 -0.581554   \n",
              "\n",
              "       Hypertension  \n",
              "0               1.0  \n",
              "1               1.0  \n",
              "2               0.0  \n",
              "3               1.0  \n",
              "4               0.0  \n",
              "...             ...  \n",
              "70687           0.0  \n",
              "70688           0.0  \n",
              "70689           1.0  \n",
              "70690           1.0  \n",
              "70691           1.0  \n",
              "\n",
              "[70692 rows x 12 columns]"
            ],
            "text/html": [
              "\n",
              "  <div id=\"df-0cb8936f-717a-4f65-bda7-43006a4975f2\">\n",
              "    <div class=\"colab-df-container\">\n",
              "      <div>\n",
              "<style scoped>\n",
              "    .dataframe tbody tr th:only-of-type {\n",
              "        vertical-align: middle;\n",
              "    }\n",
              "\n",
              "    .dataframe tbody tr th {\n",
              "        vertical-align: top;\n",
              "    }\n",
              "\n",
              "    .dataframe thead th {\n",
              "        text-align: right;\n",
              "    }\n",
              "</style>\n",
              "<table border=\"1\" class=\"dataframe\">\n",
              "  <thead>\n",
              "    <tr style=\"text-align: right;\">\n",
              "      <th></th>\n",
              "      <th>Age</th>\n",
              "      <th>Sex</th>\n",
              "      <th>HighChol</th>\n",
              "      <th>CholCheck</th>\n",
              "      <th>BMI</th>\n",
              "      <th>Smoker</th>\n",
              "      <th>HeartDiseaseorAttack</th>\n",
              "      <th>GenHlth</th>\n",
              "      <th>MentHlth</th>\n",
              "      <th>PhysHlth</th>\n",
              "      <th>DiffWalk</th>\n",
              "      <th>Hypertension</th>\n",
              "    </tr>\n",
              "  </thead>\n",
              "  <tbody>\n",
              "    <tr>\n",
              "      <th>0</th>\n",
              "      <td>-1.607237</td>\n",
              "      <td>1.090046</td>\n",
              "      <td>-1.052798</td>\n",
              "      <td>0.159276</td>\n",
              "      <td>-0.542176</td>\n",
              "      <td>-0.951711</td>\n",
              "      <td>-0.416470</td>\n",
              "      <td>0.146304</td>\n",
              "      <td>0.153020</td>\n",
              "      <td>2.404008</td>\n",
              "      <td>-0.581554</td>\n",
              "      <td>1.0</td>\n",
              "    </tr>\n",
              "    <tr>\n",
              "      <th>1</th>\n",
              "      <td>1.197681</td>\n",
              "      <td>1.090046</td>\n",
              "      <td>0.949850</td>\n",
              "      <td>0.159276</td>\n",
              "      <td>-0.542176</td>\n",
              "      <td>1.050740</td>\n",
              "      <td>-0.416470</td>\n",
              "      <td>0.146304</td>\n",
              "      <td>-0.460058</td>\n",
              "      <td>-0.577451</td>\n",
              "      <td>-0.581554</td>\n",
              "      <td>1.0</td>\n",
              "    </tr>\n",
              "    <tr>\n",
              "      <th>2</th>\n",
              "      <td>1.548296</td>\n",
              "      <td>1.090046</td>\n",
              "      <td>-1.052798</td>\n",
              "      <td>0.159276</td>\n",
              "      <td>-0.542176</td>\n",
              "      <td>-0.951711</td>\n",
              "      <td>-0.416470</td>\n",
              "      <td>-1.649743</td>\n",
              "      <td>-0.460058</td>\n",
              "      <td>0.416369</td>\n",
              "      <td>-0.581554</td>\n",
              "      <td>0.0</td>\n",
              "    </tr>\n",
              "    <tr>\n",
              "      <th>3</th>\n",
              "      <td>0.847066</td>\n",
              "      <td>1.090046</td>\n",
              "      <td>0.949850</td>\n",
              "      <td>0.159276</td>\n",
              "      <td>-0.261036</td>\n",
              "      <td>1.050740</td>\n",
              "      <td>-0.416470</td>\n",
              "      <td>0.146304</td>\n",
              "      <td>-0.460058</td>\n",
              "      <td>-0.279305</td>\n",
              "      <td>-0.581554</td>\n",
              "      <td>1.0</td>\n",
              "    </tr>\n",
              "    <tr>\n",
              "      <th>4</th>\n",
              "      <td>-0.204778</td>\n",
              "      <td>-0.917392</td>\n",
              "      <td>-1.052798</td>\n",
              "      <td>0.159276</td>\n",
              "      <td>-0.120466</td>\n",
              "      <td>1.050740</td>\n",
              "      <td>-0.416470</td>\n",
              "      <td>-0.751719</td>\n",
              "      <td>-0.460058</td>\n",
              "      <td>-0.577451</td>\n",
              "      <td>-0.581554</td>\n",
              "      <td>0.0</td>\n",
              "    </tr>\n",
              "    <tr>\n",
              "      <th>...</th>\n",
              "      <td>...</td>\n",
              "      <td>...</td>\n",
              "      <td>...</td>\n",
              "      <td>...</td>\n",
              "      <td>...</td>\n",
              "      <td>...</td>\n",
              "      <td>...</td>\n",
              "      <td>...</td>\n",
              "      <td>...</td>\n",
              "      <td>...</td>\n",
              "      <td>...</td>\n",
              "      <td>...</td>\n",
              "    </tr>\n",
              "    <tr>\n",
              "      <th>70687</th>\n",
              "      <td>-0.906008</td>\n",
              "      <td>-0.917392</td>\n",
              "      <td>0.949850</td>\n",
              "      <td>0.159276</td>\n",
              "      <td>1.004092</td>\n",
              "      <td>-0.951711</td>\n",
              "      <td>-0.416470</td>\n",
              "      <td>1.044328</td>\n",
              "      <td>-0.460058</td>\n",
              "      <td>-0.577451</td>\n",
              "      <td>-0.581554</td>\n",
              "      <td>0.0</td>\n",
              "    </tr>\n",
              "    <tr>\n",
              "      <th>70688</th>\n",
              "      <td>0.496451</td>\n",
              "      <td>1.090046</td>\n",
              "      <td>0.949850</td>\n",
              "      <td>0.159276</td>\n",
              "      <td>-0.120466</td>\n",
              "      <td>1.050740</td>\n",
              "      <td>2.401131</td>\n",
              "      <td>-0.751719</td>\n",
              "      <td>-0.460058</td>\n",
              "      <td>-0.577451</td>\n",
              "      <td>1.719532</td>\n",
              "      <td>0.0</td>\n",
              "    </tr>\n",
              "    <tr>\n",
              "      <th>70689</th>\n",
              "      <td>1.548296</td>\n",
              "      <td>-0.917392</td>\n",
              "      <td>0.949850</td>\n",
              "      <td>0.159276</td>\n",
              "      <td>-0.682745</td>\n",
              "      <td>-0.951711</td>\n",
              "      <td>2.401131</td>\n",
              "      <td>1.942351</td>\n",
              "      <td>1.379176</td>\n",
              "      <td>-0.577451</td>\n",
              "      <td>1.719532</td>\n",
              "      <td>1.0</td>\n",
              "    </tr>\n",
              "    <tr>\n",
              "      <th>70690</th>\n",
              "      <td>0.847066</td>\n",
              "      <td>-0.917392</td>\n",
              "      <td>0.949850</td>\n",
              "      <td>0.159276</td>\n",
              "      <td>-1.666734</td>\n",
              "      <td>-0.951711</td>\n",
              "      <td>-0.416470</td>\n",
              "      <td>1.044328</td>\n",
              "      <td>-0.460058</td>\n",
              "      <td>-0.577451</td>\n",
              "      <td>1.719532</td>\n",
              "      <td>1.0</td>\n",
              "    </tr>\n",
              "    <tr>\n",
              "      <th>70691</th>\n",
              "      <td>0.145837</td>\n",
              "      <td>-0.917392</td>\n",
              "      <td>0.949850</td>\n",
              "      <td>0.159276</td>\n",
              "      <td>-0.682745</td>\n",
              "      <td>-0.951711</td>\n",
              "      <td>2.401131</td>\n",
              "      <td>-0.751719</td>\n",
              "      <td>-0.460058</td>\n",
              "      <td>-0.577451</td>\n",
              "      <td>-0.581554</td>\n",
              "      <td>1.0</td>\n",
              "    </tr>\n",
              "  </tbody>\n",
              "</table>\n",
              "<p>70692 rows × 12 columns</p>\n",
              "</div>\n",
              "      <button class=\"colab-df-convert\" onclick=\"convertToInteractive('df-0cb8936f-717a-4f65-bda7-43006a4975f2')\"\n",
              "              title=\"Convert this dataframe to an interactive table.\"\n",
              "              style=\"display:none;\">\n",
              "        \n",
              "  <svg xmlns=\"http://www.w3.org/2000/svg\" height=\"24px\"viewBox=\"0 0 24 24\"\n",
              "       width=\"24px\">\n",
              "    <path d=\"M0 0h24v24H0V0z\" fill=\"none\"/>\n",
              "    <path d=\"M18.56 5.44l.94 2.06.94-2.06 2.06-.94-2.06-.94-.94-2.06-.94 2.06-2.06.94zm-11 1L8.5 8.5l.94-2.06 2.06-.94-2.06-.94L8.5 2.5l-.94 2.06-2.06.94zm10 10l.94 2.06.94-2.06 2.06-.94-2.06-.94-.94-2.06-.94 2.06-2.06.94z\"/><path d=\"M17.41 7.96l-1.37-1.37c-.4-.4-.92-.59-1.43-.59-.52 0-1.04.2-1.43.59L10.3 9.45l-7.72 7.72c-.78.78-.78 2.05 0 2.83L4 21.41c.39.39.9.59 1.41.59.51 0 1.02-.2 1.41-.59l7.78-7.78 2.81-2.81c.8-.78.8-2.07 0-2.86zM5.41 20L4 18.59l7.72-7.72 1.47 1.35L5.41 20z\"/>\n",
              "  </svg>\n",
              "      </button>\n",
              "      \n",
              "  <style>\n",
              "    .colab-df-container {\n",
              "      display:flex;\n",
              "      flex-wrap:wrap;\n",
              "      gap: 12px;\n",
              "    }\n",
              "\n",
              "    .colab-df-convert {\n",
              "      background-color: #E8F0FE;\n",
              "      border: none;\n",
              "      border-radius: 50%;\n",
              "      cursor: pointer;\n",
              "      display: none;\n",
              "      fill: #1967D2;\n",
              "      height: 32px;\n",
              "      padding: 0 0 0 0;\n",
              "      width: 32px;\n",
              "    }\n",
              "\n",
              "    .colab-df-convert:hover {\n",
              "      background-color: #E2EBFA;\n",
              "      box-shadow: 0px 1px 2px rgba(60, 64, 67, 0.3), 0px 1px 3px 1px rgba(60, 64, 67, 0.15);\n",
              "      fill: #174EA6;\n",
              "    }\n",
              "\n",
              "    [theme=dark] .colab-df-convert {\n",
              "      background-color: #3B4455;\n",
              "      fill: #D2E3FC;\n",
              "    }\n",
              "\n",
              "    [theme=dark] .colab-df-convert:hover {\n",
              "      background-color: #434B5C;\n",
              "      box-shadow: 0px 1px 3px 1px rgba(0, 0, 0, 0.15);\n",
              "      filter: drop-shadow(0px 1px 2px rgba(0, 0, 0, 0.3));\n",
              "      fill: #FFFFFF;\n",
              "    }\n",
              "  </style>\n",
              "\n",
              "      <script>\n",
              "        const buttonEl =\n",
              "          document.querySelector('#df-0cb8936f-717a-4f65-bda7-43006a4975f2 button.colab-df-convert');\n",
              "        buttonEl.style.display =\n",
              "          google.colab.kernel.accessAllowed ? 'block' : 'none';\n",
              "\n",
              "        async function convertToInteractive(key) {\n",
              "          const element = document.querySelector('#df-0cb8936f-717a-4f65-bda7-43006a4975f2');\n",
              "          const dataTable =\n",
              "            await google.colab.kernel.invokeFunction('convertToInteractive',\n",
              "                                                     [key], {});\n",
              "          if (!dataTable) return;\n",
              "\n",
              "          const docLinkHtml = 'Like what you see? Visit the ' +\n",
              "            '<a target=\"_blank\" href=https://colab.research.google.com/notebooks/data_table.ipynb>data table notebook</a>'\n",
              "            + ' to learn more about interactive tables.';\n",
              "          element.innerHTML = '';\n",
              "          dataTable['output_type'] = 'display_data';\n",
              "          await google.colab.output.renderOutput(dataTable, element);\n",
              "          const docLink = document.createElement('div');\n",
              "          docLink.innerHTML = docLinkHtml;\n",
              "          element.appendChild(docLink);\n",
              "        }\n",
              "      </script>\n",
              "    </div>\n",
              "  </div>\n",
              "  "
            ]
          },
          "metadata": {},
          "execution_count": 7
        }
      ],
      "source": [
        "new_df_scaled"
      ]
    },
    {
      "cell_type": "markdown",
      "metadata": {
        "id": "BmbxCkVYnXGT"
      },
      "source": [
        "## Data Splitting"
      ]
    },
    {
      "cell_type": "code",
      "execution_count": 8,
      "metadata": {
        "id": "un8S6wJ9ncDt"
      },
      "outputs": [],
      "source": [
        "X = new_df_scaled.drop(columns=['Hypertension'])\n",
        "y = new_df_scaled['Hypertension']\n",
        "X_train, X_test, y_train, y_test = train_test_split(X, y, test_size=0.1, random_state=42)"
      ]
    },
    {
      "cell_type": "markdown",
      "metadata": {
        "id": "BQXebYHmCm-8"
      },
      "source": [
        "# Pendefinisian Model - Mael"
      ]
    },
    {
      "cell_type": "markdown",
      "metadata": {
        "id": "3tR-JonUn4G4"
      },
      "source": [
        "## Decision Tree"
      ]
    },
    {
      "cell_type": "code",
      "execution_count": null,
      "metadata": {
        "colab": {
          "base_uri": "https://localhost:8080/"
        },
        "id": "tqzzunt8oz15",
        "outputId": "0d3f47ee-623d-43c6-b7c8-f8b722174949"
      },
      "outputs": [
        {
          "data": {
            "text/plain": [
              "GridSearchCV(cv=5, estimator=DecisionTreeClassifier(),\n",
              "             param_grid=[{'criterion': ['gini', 'entropy', 'log_loss'],\n",
              "                          'splitter': ['best', 'random']}],\n",
              "             return_train_score=True, scoring='neg_mean_squared_error')"
            ]
          },
          "execution_count": 24,
          "metadata": {},
          "output_type": "execute_result"
        }
      ],
      "source": [
        "from sklearn.model_selection import GridSearchCV\n",
        "param_grid = [\n",
        " {'criterion': [\"gini\", \"entropy\", \"log_loss\"], 'splitter': [\"best\", \"random\"]}\n",
        "]\n",
        "forest_reg = DecisionTreeClassifier()\n",
        "grid_search = GridSearchCV(forest_reg, param_grid, cv=5, scoring='neg_mean_squared_error',return_train_score=True)\n",
        "grid_search.fit(X_train, y_train)\n"
      ]
    },
    {
      "cell_type": "code",
      "execution_count": null,
      "metadata": {
        "colab": {
          "base_uri": "https://localhost:8080/"
        },
        "id": "YOBR3_6qpgy3",
        "outputId": "14f5ea38-f757-4c20-cd4a-39f942670780"
      },
      "outputs": [
        {
          "data": {
            "text/plain": [
              "{'criterion': 'entropy', 'splitter': 'random'}"
            ]
          },
          "execution_count": 25,
          "metadata": {},
          "output_type": "execute_result"
        }
      ],
      "source": [
        "grid_search.best_params_"
      ]
    },
    {
      "cell_type": "code",
      "execution_count": 68,
      "metadata": {
        "colab": {
          "base_uri": "https://localhost:8080/"
        },
        "id": "n536QGFpn7C1",
        "outputId": "bba1362a-c2df-44aa-f669-19a609e208d1"
      },
      "outputs": [
        {
          "output_type": "execute_result",
          "data": {
            "text/plain": [
              "DecisionTreeClassifier(criterion='entropy', splitter='random')"
            ]
          },
          "metadata": {},
          "execution_count": 68
        }
      ],
      "source": [
        "dt_model = DecisionTreeClassifier(criterion='entropy', splitter='random')\n",
        "dt_model.fit(X_train, y_train)"
      ]
    },
    {
      "cell_type": "code",
      "execution_count": 80,
      "metadata": {
        "id": "yUPH6zzQqHA5"
      },
      "outputs": [],
      "source": [
        "y_predict_dt = dt_model.predict(X_test)"
      ]
    },
    {
      "cell_type": "code",
      "execution_count": 81,
      "metadata": {
        "colab": {
          "base_uri": "https://localhost:8080/"
        },
        "id": "SmL0cNCUqYdO",
        "outputId": "0ea8628b-804e-4ef8-b09f-a4ec66b5f325"
      },
      "outputs": [
        {
          "output_type": "execute_result",
          "data": {
            "text/plain": [
              "0.6526166902404527"
            ]
          },
          "metadata": {},
          "execution_count": 81
        }
      ],
      "source": [
        "dt_accuration = accuracy_score(y_predict_dt, y_test)\n",
        "dt_accuration"
      ]
    },
    {
      "cell_type": "markdown",
      "metadata": {
        "id": "ok-B91R_q5WY"
      },
      "source": [
        "## Random Forest\n"
      ]
    },
    {
      "cell_type": "code",
      "execution_count": null,
      "metadata": {
        "colab": {
          "background_save": true
        },
        "id": "aPbDlRjoq_Xd",
        "outputId": "30504c65-aa41-47de-9b30-075d419d1232"
      },
      "outputs": [
        {
          "data": {
            "text/plain": [
              "GridSearchCV(cv=5, estimator=RandomForestClassifier(),\n",
              "             param_grid=[{'criterion': ['gini', 'entropy', 'log_loss'],\n",
              "                          'n_estimators': [100, 200, 300]}],\n",
              "             return_train_score=True, scoring='neg_mean_squared_error')"
            ]
          },
          "execution_count": 31,
          "metadata": {},
          "output_type": "execute_result"
        }
      ],
      "source": [
        "param_grid = [\n",
        " {'criterion': [\"gini\", \"entropy\", \"log_loss\"], 'n_estimators': [100, 200, 300]}\n",
        "]\n",
        "forest_reg = RandomForestClassifier()\n",
        "grid_search = GridSearchCV(forest_reg, param_grid, cv=5, scoring='neg_mean_squared_error',return_train_score=True)\n",
        "grid_search.fit(X_train, y_train)"
      ]
    },
    {
      "cell_type": "code",
      "source": [
        "grid_search.best_params_"
      ],
      "metadata": {
        "colab": {
          "base_uri": "https://localhost:8080/"
        },
        "id": "WeXvqM97uAQ3",
        "outputId": "50df672f-f0d5-443f-bddd-1e0d97d8a50e"
      },
      "execution_count": null,
      "outputs": [
        {
          "output_type": "execute_result",
          "data": {
            "text/plain": [
              "{'criterion': 'entropy', 'n_estimators': 300}"
            ]
          },
          "metadata": {},
          "execution_count": 32
        }
      ]
    },
    {
      "cell_type": "code",
      "source": [
        "rnd_clf = RandomForestClassifier(criterion = 'entropy', n_estimators = 300)\n",
        "rnd_clf.fit(X_train, y_train)"
      ],
      "metadata": {
        "colab": {
          "base_uri": "https://localhost:8080/"
        },
        "id": "TrNMz2EwuESi",
        "outputId": "3492234c-7fdc-4861-bf4c-a2a8b1bd0754"
      },
      "execution_count": 71,
      "outputs": [
        {
          "output_type": "execute_result",
          "data": {
            "text/plain": [
              "RandomForestClassifier(criterion='entropy', n_estimators=300)"
            ]
          },
          "metadata": {},
          "execution_count": 71
        }
      ]
    },
    {
      "cell_type": "code",
      "source": [
        "y_predict_forest = rnd_clf.predict(X_test)"
      ],
      "metadata": {
        "id": "sZhHp_IJuqVA"
      },
      "execution_count": 72,
      "outputs": []
    },
    {
      "cell_type": "code",
      "source": [
        "accuration_forest = accuracy_score(y_predict_forest, y_test)\n",
        "accuration_forest"
      ],
      "metadata": {
        "colab": {
          "base_uri": "https://localhost:8080/"
        },
        "id": "bcni-yMzu0hy",
        "outputId": "403e32c6-121e-4227-fad5-510e330b393a"
      },
      "execution_count": 73,
      "outputs": [
        {
          "output_type": "execute_result",
          "data": {
            "text/plain": [
              "0.6984441301272984"
            ]
          },
          "metadata": {},
          "execution_count": 73
        }
      ]
    },
    {
      "cell_type": "markdown",
      "source": [
        "## SVM"
      ],
      "metadata": {
        "id": "a8ttThMxvUJQ"
      }
    },
    {
      "cell_type": "code",
      "source": [
        "svm = SVC()"
      ],
      "metadata": {
        "id": "dcL-DGQRvXR6"
      },
      "execution_count": 31,
      "outputs": []
    },
    {
      "cell_type": "code",
      "source": [
        "svm.fit(X_train, y_train)"
      ],
      "metadata": {
        "colab": {
          "base_uri": "https://localhost:8080/"
        },
        "id": "jqEuE3RKySwZ",
        "outputId": "3aef588f-f969-4e96-d80e-77aa86d6e097"
      },
      "execution_count": 74,
      "outputs": [
        {
          "output_type": "execute_result",
          "data": {
            "text/plain": [
              "SVC()"
            ]
          },
          "metadata": {},
          "execution_count": 74
        }
      ]
    },
    {
      "cell_type": "code",
      "source": [
        "y_predict_svm = svm.predict(X_test)"
      ],
      "metadata": {
        "id": "huDZou8lyYxk"
      },
      "execution_count": 75,
      "outputs": []
    },
    {
      "cell_type": "code",
      "source": [
        "dt_accuration_svm = accuracy_score(y_predict_svm, y_test)\n",
        "dt_accuration_svm"
      ],
      "metadata": {
        "colab": {
          "base_uri": "https://localhost:8080/"
        },
        "id": "XVvsbUPtyty9",
        "outputId": "5350b799-a982-4129-ea6f-342c7f6c292e"
      },
      "execution_count": 76,
      "outputs": [
        {
          "output_type": "execute_result",
          "data": {
            "text/plain": [
              "0.733946251768034"
            ]
          },
          "metadata": {},
          "execution_count": 76
        }
      ]
    },
    {
      "cell_type": "markdown",
      "source": [
        "## SVM With Bagging"
      ],
      "metadata": {
        "id": "skGTQUCH-mTx"
      }
    },
    {
      "cell_type": "code",
      "source": [
        "bag_svc = BaggingClassifier(\n",
        "            SVC(), \n",
        "            bootstrap=True, \n",
        "            n_jobs=-1\n",
        ")\n",
        "bag_svc.fit(X_train, y_train)"
      ],
      "metadata": {
        "colab": {
          "base_uri": "https://localhost:8080/"
        },
        "id": "6n7Eunmq-oIW",
        "outputId": "d953a139-1e57-4cae-f53d-52f2bdd108db"
      },
      "execution_count": 33,
      "outputs": [
        {
          "output_type": "execute_result",
          "data": {
            "text/plain": [
              "BaggingClassifier(base_estimator=SVC(), n_jobs=-1)"
            ]
          },
          "metadata": {},
          "execution_count": 33
        }
      ]
    },
    {
      "cell_type": "code",
      "source": [
        "y_predict_bag_svc = bag_svc.predict(X_test)"
      ],
      "metadata": {
        "id": "8f4DnRRm-yfv"
      },
      "execution_count": 34,
      "outputs": []
    },
    {
      "cell_type": "code",
      "source": [
        "accuration_bag_svc = accuracy_score(y_predict_bag_svc, y_test)\n",
        "accuration_bag_svc"
      ],
      "metadata": {
        "colab": {
          "base_uri": "https://localhost:8080/"
        },
        "id": "vhTQQmRP-5AP",
        "outputId": "ece0d33d-1aba-476d-bada-258fd779250a"
      },
      "execution_count": 35,
      "outputs": [
        {
          "output_type": "execute_result",
          "data": {
            "text/plain": [
              "0.732956152758133"
            ]
          },
          "metadata": {},
          "execution_count": 35
        }
      ]
    },
    {
      "cell_type": "markdown",
      "source": [
        "## Extra Tree Classifier"
      ],
      "metadata": {
        "id": "OpzJEUNgN9PO"
      }
    },
    {
      "cell_type": "code",
      "source": [
        "param_grid = [\n",
        " {'criterion': [\"gini\", \"entropy\", \"log_loss\"], 'n_estimators': [100, 200, 300]}\n",
        "]\n",
        "extra_tree = ExtraTreesClassifier()\n",
        "grid_search = GridSearchCV(extra_tree, param_grid, cv=5, scoring='neg_mean_squared_error',return_train_score=True)\n",
        "grid_search.fit(X_train, y_train)"
      ],
      "metadata": {
        "colab": {
          "base_uri": "https://localhost:8080/"
        },
        "id": "yHGr70zROAHY",
        "outputId": "b9c3db02-d9c6-4d0b-a429-271a63038d95"
      },
      "execution_count": null,
      "outputs": [
        {
          "output_type": "execute_result",
          "data": {
            "text/plain": [
              "GridSearchCV(cv=5, estimator=ExtraTreesClassifier(),\n",
              "             param_grid=[{'criterion': ['gini', 'entropy', 'log_loss'],\n",
              "                          'n_estimators': [100, 200, 300]}],\n",
              "             return_train_score=True, scoring='neg_mean_squared_error')"
            ]
          },
          "metadata": {},
          "execution_count": 43
        }
      ]
    },
    {
      "cell_type": "code",
      "source": [
        "grid_search.best_params_"
      ],
      "metadata": {
        "colab": {
          "base_uri": "https://localhost:8080/"
        },
        "id": "yPPvS_exR9dD",
        "outputId": "3c36ff3b-da28-4566-8a8b-6450d7041776"
      },
      "execution_count": null,
      "outputs": [
        {
          "output_type": "execute_result",
          "data": {
            "text/plain": [
              "{'criterion': 'gini', 'n_estimators': 200}"
            ]
          },
          "metadata": {},
          "execution_count": 44
        }
      ]
    },
    {
      "cell_type": "code",
      "source": [
        "extra_tree_clf = ExtraTreesClassifier(criterion = 'gini', n_estimators = 200)\n",
        "extra_tree_clf.fit(X_train, y_train)"
      ],
      "metadata": {
        "colab": {
          "base_uri": "https://localhost:8080/"
        },
        "id": "lH9Jm_VGSDEg",
        "outputId": "c3f049da-0ce8-43e5-f86b-d4a8005836cc"
      },
      "execution_count": 77,
      "outputs": [
        {
          "output_type": "execute_result",
          "data": {
            "text/plain": [
              "ExtraTreesClassifier(n_estimators=200)"
            ]
          },
          "metadata": {},
          "execution_count": 77
        }
      ]
    },
    {
      "cell_type": "code",
      "source": [
        "y_predict_extra_tree = extra_tree_clf.predict(X_test)"
      ],
      "metadata": {
        "id": "cxpkUCwsSnss"
      },
      "execution_count": 78,
      "outputs": []
    },
    {
      "cell_type": "code",
      "source": [
        "accuration_extra_tree = accuracy_score(y_predict_extra_tree, y_test)\n",
        "accuration_extra_tree"
      ],
      "metadata": {
        "colab": {
          "base_uri": "https://localhost:8080/"
        },
        "id": "xopbk0tSSxAS",
        "outputId": "39d0a66a-194e-460d-c0d9-db204f60164a"
      },
      "execution_count": 79,
      "outputs": [
        {
          "output_type": "execute_result",
          "data": {
            "text/plain": [
              "0.6925035360678925"
            ]
          },
          "metadata": {},
          "execution_count": 79
        }
      ]
    },
    {
      "cell_type": "markdown",
      "source": [
        "## Logistic Regression"
      ],
      "metadata": {
        "id": "oK7m1CG04fiY"
      }
    },
    {
      "cell_type": "code",
      "source": [
        "lgr_clf = LogisticRegression()\n",
        "lgr_clf.fit(X_train, y_train)"
      ],
      "metadata": {
        "colab": {
          "base_uri": "https://localhost:8080/"
        },
        "id": "ZcT7ZXC27b8H",
        "outputId": "37b73f70-007e-45d0-805a-b651e467b37e"
      },
      "execution_count": 9,
      "outputs": [
        {
          "output_type": "execute_result",
          "data": {
            "text/plain": [
              "LogisticRegression()"
            ]
          },
          "metadata": {},
          "execution_count": 9
        }
      ]
    },
    {
      "cell_type": "code",
      "source": [
        "y_predict_lgr = lgr_clf.predict(X_test)"
      ],
      "metadata": {
        "id": "09LHg1Dm7mj4"
      },
      "execution_count": 10,
      "outputs": []
    },
    {
      "cell_type": "code",
      "source": [
        "accuration_lgr = accuracy_score(y_predict_lgr, y_test)\n",
        "accuration_lgr"
      ],
      "metadata": {
        "colab": {
          "base_uri": "https://localhost:8080/"
        },
        "id": "RwJUpOu57q9A",
        "outputId": "782ccb4f-d0f0-4af2-8c50-084c761aff20"
      },
      "execution_count": 11,
      "outputs": [
        {
          "output_type": "execute_result",
          "data": {
            "text/plain": [
              "0.731966053748232"
            ]
          },
          "metadata": {},
          "execution_count": 11
        }
      ]
    },
    {
      "cell_type": "markdown",
      "source": [
        "## Logistic Regression with Bagging\n"
      ],
      "metadata": {
        "id": "3Pe6k9yH79k4"
      }
    },
    {
      "cell_type": "code",
      "source": [
        "bag_lgr_clf = BaggingClassifier(\n",
        "            LogisticRegression(), \n",
        "            bootstrap=True, \n",
        "            n_jobs=-1\n",
        ")\n",
        "bag_lgr_clf.fit(X_train, y_train)"
      ],
      "metadata": {
        "colab": {
          "base_uri": "https://localhost:8080/"
        },
        "id": "eFGeftkj8LMP",
        "outputId": "a63d7402-98d9-4d10-c8d9-0d7632fe21e3"
      },
      "execution_count": 12,
      "outputs": [
        {
          "output_type": "execute_result",
          "data": {
            "text/plain": [
              "BaggingClassifier(base_estimator=LogisticRegression(), n_jobs=-1)"
            ]
          },
          "metadata": {},
          "execution_count": 12
        }
      ]
    },
    {
      "cell_type": "code",
      "source": [
        "y_predict_bag_lgr = bag_lgr_clf.predict(X_test)"
      ],
      "metadata": {
        "id": "WK2Eq4qH8biA"
      },
      "execution_count": 13,
      "outputs": []
    },
    {
      "cell_type": "code",
      "source": [
        "accuration_bag_lgr = accuracy_score(y_predict_bag_lgr, y_test)\n",
        "accuration_bag_lgr"
      ],
      "metadata": {
        "colab": {
          "base_uri": "https://localhost:8080/"
        },
        "id": "aSW6roZZ8fYf",
        "outputId": "c6e6e2e3-f09d-46c7-bb1b-e9bb9570e1a7"
      },
      "execution_count": 14,
      "outputs": [
        {
          "output_type": "execute_result",
          "data": {
            "text/plain": [
              "0.7322489391796323"
            ]
          },
          "metadata": {},
          "execution_count": 14
        }
      ]
    },
    {
      "cell_type": "markdown",
      "source": [
        "## Adaboost Logistic Regression"
      ],
      "metadata": {
        "id": "tv7TQpCL9PNm"
      }
    },
    {
      "cell_type": "code",
      "source": [
        "ada_clf = AdaBoostClassifier(\n",
        " LogisticRegression(), n_estimators=200,\n",
        " algorithm=\"SAMME.R\", learning_rate=0.2\n",
        " )\n",
        "ada_clf.fit(X_train, y_train)"
      ],
      "metadata": {
        "colab": {
          "base_uri": "https://localhost:8080/"
        },
        "id": "T79c4HhT9RgX",
        "outputId": "d374f105-0011-4840-9788-63f226083aa7"
      },
      "execution_count": 27,
      "outputs": [
        {
          "output_type": "execute_result",
          "data": {
            "text/plain": [
              "AdaBoostClassifier(base_estimator=LogisticRegression(), learning_rate=0.2,\n",
              "                   n_estimators=200)"
            ]
          },
          "metadata": {},
          "execution_count": 27
        }
      ]
    },
    {
      "cell_type": "code",
      "source": [
        "y_predict_ada_clf = ada_clf.predict(X_test)"
      ],
      "metadata": {
        "id": "_VVoEdmm9Zau"
      },
      "execution_count": 28,
      "outputs": []
    },
    {
      "cell_type": "code",
      "source": [
        "accuration_ada_clf = accuracy_score(y_predict_ada_clf, y_test)\n",
        "accuration_ada_clf"
      ],
      "metadata": {
        "colab": {
          "base_uri": "https://localhost:8080/"
        },
        "id": "0bWy3JuR9hTH",
        "outputId": "22cf4e8b-5ca0-4f67-8f8d-2d7b4b658930"
      },
      "execution_count": 87,
      "outputs": [
        {
          "output_type": "execute_result",
          "data": {
            "text/plain": [
              "0.7304101838755304"
            ]
          },
          "metadata": {},
          "execution_count": 87
        }
      ]
    },
    {
      "cell_type": "markdown",
      "source": [
        "## Voting Classifier"
      ],
      "metadata": {
        "id": "grfOAiQ5O7Xj"
      }
    },
    {
      "cell_type": "code",
      "source": [
        "voting_clf = VotingClassifier(\n",
        " estimators=[('lgr', lgr_clf), ('rf', rnd_clf), ('svc', svm)],\n",
        " voting='hard'\n",
        ")\n",
        "voting_clf.fit(X_train, y_train)"
      ],
      "metadata": {
        "colab": {
          "base_uri": "https://localhost:8080/"
        },
        "id": "hnExpPUFO9Ka",
        "outputId": "104ed459-29eb-44f4-fc89-b2b2b42724f8"
      },
      "execution_count": 65,
      "outputs": [
        {
          "output_type": "execute_result",
          "data": {
            "text/plain": [
              "VotingClassifier(estimators=[('lgr', LogisticRegression()),\n",
              "                             ('rf',\n",
              "                              RandomForestClassifier(criterion='entropy',\n",
              "                                                     n_estimators=300)),\n",
              "                             ('svc', SVC())])"
            ]
          },
          "metadata": {},
          "execution_count": 65
        }
      ]
    },
    {
      "cell_type": "code",
      "source": [
        "y_predict_voting_clf = voting_clf.predict(X_test)"
      ],
      "metadata": {
        "id": "Z8nsKZEWQS3O"
      },
      "execution_count": 66,
      "outputs": []
    },
    {
      "cell_type": "code",
      "source": [
        "accuration_voting_clf = accuracy_score(y_predict_voting_clf, y_test)\n",
        "accuration_voting_clf"
      ],
      "metadata": {
        "colab": {
          "base_uri": "https://localhost:8080/"
        },
        "id": "Wn9-Fh08QYTc",
        "outputId": "d75b50bb-8daf-473f-90a4-59efaff6e6f9"
      },
      "execution_count": 67,
      "outputs": [
        {
          "output_type": "execute_result",
          "data": {
            "text/plain": [
              "0.7342291371994343"
            ]
          },
          "metadata": {},
          "execution_count": 67
        }
      ]
    },
    {
      "cell_type": "markdown",
      "metadata": {
        "id": "NPzTRUkHDFIC"
      },
      "source": [
        "# Evaluasi Model -Mael"
      ]
    },
    {
      "cell_type": "code",
      "source": [
        "list_pred = [y_predict_dt,\n",
        "             y_predict_forest,\n",
        "             y_predict_svm,\n",
        "             y_predict_bag_svc,\n",
        "             y_predict_extra_tree,\n",
        "             y_predict_lgr,\n",
        "             y_predict_bag_lgr,\n",
        "             y_predict_ada_clf,\n",
        "             y_predict_voting_clf]\n",
        "\n",
        "list_model = ['Decision Tree Classifier',\n",
        "              'Random Forest Classifier',\n",
        "              'SVM Classifier',\n",
        "              'SVM Classifier With Bagging',\n",
        "              'Extra Tree Classifier',\n",
        "              'Logistic Regression',\n",
        "              'Logistic Regression With Bagging',\n",
        "              'Logistic Regression With AdaBoost',\n",
        "              'Voting Classifier']"
      ],
      "metadata": {
        "id": "IkigbAhnPU61"
      },
      "execution_count": 82,
      "outputs": []
    },
    {
      "cell_type": "markdown",
      "source": [
        "## F1 Score"
      ],
      "metadata": {
        "id": "n01n3qf8RC51"
      }
    },
    {
      "cell_type": "code",
      "source": [
        "for i in range(len(list_pred)):\n",
        "  print('F1 score dari model {} adalah {}'.format(list_model[i], f1_score(y_test,list_pred[i])))\n",
        "  print('============================================')"
      ],
      "metadata": {
        "colab": {
          "base_uri": "https://localhost:8080/"
        },
        "id": "VOn8RNJ8REiL",
        "outputId": "30361835-d1c8-41d3-eaa3-d63695b4c537"
      },
      "execution_count": 83,
      "outputs": [
        {
          "output_type": "stream",
          "name": "stdout",
          "text": [
            "F1 score dari model Decision Tree Classifier adalah 0.6861742908254536\n",
            "============================================\n",
            "F1 score dari model Random Forest Classifier adalah 0.7401901048013648\n",
            "============================================\n",
            "F1 score dari model SVM Classifier adalah 0.7796649877005973\n",
            "============================================\n",
            "F1 score dari model SVM Classifier With Bagging adalah 0.7779868297271871\n",
            "============================================\n",
            "F1 score dari model Extra Tree Classifier adalah 0.7299378881987577\n",
            "============================================\n",
            "F1 score dari model Logistic Regression adalah 0.7728634783650966\n",
            "============================================\n",
            "F1 score dari model Logistic Regression With Bagging adalah 0.772776377385668\n",
            "============================================\n",
            "F1 score dari model Logistic Regression With AdaBoost adalah 0.7703614457831327\n",
            "============================================\n",
            "F1 score dari model Voting Classifier adalah 0.7774487741324174\n",
            "============================================\n"
          ]
        }
      ]
    },
    {
      "cell_type": "markdown",
      "source": [
        "## Recall Score"
      ],
      "metadata": {
        "id": "HJI7daZERMCc"
      }
    },
    {
      "cell_type": "code",
      "source": [
        "for i in range(len(list_pred)):\n",
        "  print('Recall score dari model {} adalah {}'.format(list_model[i], recall_score(y_test,list_pred[i])))\n",
        "  print('============================================')"
      ],
      "metadata": {
        "colab": {
          "base_uri": "https://localhost:8080/"
        },
        "id": "6Yt2qPwCROmz",
        "outputId": "31ebac8d-0441-44f7-9673-998731a6d31f"
      },
      "execution_count": 84,
      "outputs": [
        {
          "output_type": "stream",
          "name": "stdout",
          "text": [
            "Recall score dari model Decision Tree Classifier adalah 0.6782015660520333\n",
            "============================================\n",
            "Recall score dari model Random Forest Classifier adalah 0.7671129072998232\n",
            "============================================\n",
            "Recall score dari model SVM Classifier adalah 0.8406163172518313\n",
            "============================================\n",
            "Recall score dari model SVM Classifier With Bagging adalah 0.8355645364991159\n",
            "============================================\n",
            "Recall score dari model Extra Tree Classifier adalah 0.7421065925738823\n",
            "============================================\n",
            "Recall score dari model Logistic Regression adalah 0.8143470573377115\n",
            "============================================\n",
            "Recall score dari model Logistic Regression With Bagging adalah 0.8130841121495327\n",
            "============================================\n",
            "Recall score dari model Logistic Regression With AdaBoost adalah 0.8075271533215459\n",
            "============================================\n",
            "Recall score dari model Voting Classifier adalah 0.828997221520586\n",
            "============================================\n"
          ]
        }
      ]
    },
    {
      "cell_type": "markdown",
      "source": [
        "## Precision Score"
      ],
      "metadata": {
        "id": "XDeAuZOFRSo8"
      }
    },
    {
      "cell_type": "code",
      "source": [
        "for i in range(len(list_pred)):\n",
        "  print('Precision score dari model {} adalah {}'.format(list_model[i], precision_score(y_test,list_pred[i])))\n",
        "  print('============================================')"
      ],
      "metadata": {
        "colab": {
          "base_uri": "https://localhost:8080/"
        },
        "id": "1fNYXw75RT4L",
        "outputId": "92afe3af-097e-4438-c122-4d8bfdf67421"
      },
      "execution_count": 85,
      "outputs": [
        {
          "output_type": "stream",
          "name": "stdout",
          "text": [
            "Precision score dari model Decision Tree Classifier adalah 0.6943366951124903\n",
            "============================================\n",
            "Precision score dari model Random Forest Classifier adalah 0.7150930068283494\n",
            "============================================\n",
            "Precision score dari model SVM Classifier adalah 0.7269550021843599\n",
            "============================================\n",
            "Precision score dari model SVM Classifier With Bagging adalah 0.7278327832783278\n",
            "============================================\n",
            "Precision score dari model Extra Tree Classifier adalah 0.7181618186262527\n",
            "============================================\n",
            "Precision score dari model Logistic Regression adalah 0.7354014598540146\n",
            "============================================\n",
            "Precision score dari model Logistic Regression With Bagging adalah 0.7362763037511436\n",
            "============================================\n",
            "Precision score dari model Logistic Regression With AdaBoost adalah 0.7364662520156646\n",
            "============================================\n",
            "Precision score dari model Voting Classifier adalah 0.731935771632471\n",
            "============================================\n"
          ]
        }
      ]
    },
    {
      "cell_type": "markdown",
      "source": [
        "## Classification Report"
      ],
      "metadata": {
        "id": "ZL1wkB83Rnrq"
      }
    },
    {
      "cell_type": "code",
      "source": [
        "for i in range(len(list_pred)):\n",
        "  print('=====================================================================')\n",
        "  print('Classification report dari model {}'.format(list_model[i]))\n",
        "  print('=====================================================================')\n",
        "  print('{}'.format(classification_report(y_test,list_pred[i])))\n",
        "  print('\\n')"
      ],
      "metadata": {
        "colab": {
          "base_uri": "https://localhost:8080/"
        },
        "id": "SpPuClYoRp4j",
        "outputId": "962f8c87-7bc5-48fb-813a-5e8a9abe7715"
      },
      "execution_count": 91,
      "outputs": [
        {
          "output_type": "stream",
          "name": "stdout",
          "text": [
            "=====================================================================\n",
            "Classification report dari model Decision Tree Classifier\n",
            "=====================================================================\n",
            "              precision    recall  f1-score   support\n",
            "\n",
            "         0.0       0.60      0.62      0.61      3111\n",
            "         1.0       0.69      0.68      0.69      3959\n",
            "\n",
            "    accuracy                           0.65      7070\n",
            "   macro avg       0.65      0.65      0.65      7070\n",
            "weighted avg       0.65      0.65      0.65      7070\n",
            "\n",
            "\n",
            "\n",
            "=====================================================================\n",
            "Classification report dari model Random Forest Classifier\n",
            "=====================================================================\n",
            "              precision    recall  f1-score   support\n",
            "\n",
            "         0.0       0.67      0.61      0.64      3111\n",
            "         1.0       0.72      0.77      0.74      3959\n",
            "\n",
            "    accuracy                           0.70      7070\n",
            "   macro avg       0.69      0.69      0.69      7070\n",
            "weighted avg       0.70      0.70      0.70      7070\n",
            "\n",
            "\n",
            "\n",
            "=====================================================================\n",
            "Classification report dari model SVM Classifier\n",
            "=====================================================================\n",
            "              precision    recall  f1-score   support\n",
            "\n",
            "         0.0       0.75      0.60      0.66      3111\n",
            "         1.0       0.73      0.84      0.78      3959\n",
            "\n",
            "    accuracy                           0.73      7070\n",
            "   macro avg       0.74      0.72      0.72      7070\n",
            "weighted avg       0.74      0.73      0.73      7070\n",
            "\n",
            "\n",
            "\n",
            "=====================================================================\n",
            "Classification report dari model SVM Classifier With Bagging\n",
            "=====================================================================\n",
            "              precision    recall  f1-score   support\n",
            "\n",
            "         0.0       0.74      0.60      0.67      3111\n",
            "         1.0       0.73      0.84      0.78      3959\n",
            "\n",
            "    accuracy                           0.73      7070\n",
            "   macro avg       0.74      0.72      0.72      7070\n",
            "weighted avg       0.73      0.73      0.73      7070\n",
            "\n",
            "\n",
            "\n",
            "=====================================================================\n",
            "Classification report dari model Extra Tree Classifier\n",
            "=====================================================================\n",
            "              precision    recall  f1-score   support\n",
            "\n",
            "         0.0       0.66      0.63      0.64      3111\n",
            "         1.0       0.72      0.74      0.73      3959\n",
            "\n",
            "    accuracy                           0.69      7070\n",
            "   macro avg       0.69      0.69      0.69      7070\n",
            "weighted avg       0.69      0.69      0.69      7070\n",
            "\n",
            "\n",
            "\n",
            "=====================================================================\n",
            "Classification report dari model Logistic Regression\n",
            "=====================================================================\n",
            "              precision    recall  f1-score   support\n",
            "\n",
            "         0.0       0.73      0.63      0.67      3111\n",
            "         1.0       0.74      0.81      0.77      3959\n",
            "\n",
            "    accuracy                           0.73      7070\n",
            "   macro avg       0.73      0.72      0.72      7070\n",
            "weighted avg       0.73      0.73      0.73      7070\n",
            "\n",
            "\n",
            "\n",
            "=====================================================================\n",
            "Classification report dari model Logistic Regression With Bagging\n",
            "=====================================================================\n",
            "              precision    recall  f1-score   support\n",
            "\n",
            "         0.0       0.73      0.63      0.67      3111\n",
            "         1.0       0.74      0.81      0.77      3959\n",
            "\n",
            "    accuracy                           0.73      7070\n",
            "   macro avg       0.73      0.72      0.72      7070\n",
            "weighted avg       0.73      0.73      0.73      7070\n",
            "\n",
            "\n",
            "\n",
            "=====================================================================\n",
            "Classification report dari model Logistic Regression With AdaBoost\n",
            "=====================================================================\n",
            "              precision    recall  f1-score   support\n",
            "\n",
            "         0.0       0.72      0.63      0.67      3111\n",
            "         1.0       0.74      0.81      0.77      3959\n",
            "\n",
            "    accuracy                           0.73      7070\n",
            "   macro avg       0.73      0.72      0.72      7070\n",
            "weighted avg       0.73      0.73      0.73      7070\n",
            "\n",
            "\n",
            "\n",
            "=====================================================================\n",
            "Classification report dari model Voting Classifier\n",
            "=====================================================================\n",
            "              precision    recall  f1-score   support\n",
            "\n",
            "         0.0       0.74      0.61      0.67      3111\n",
            "         1.0       0.73      0.83      0.78      3959\n",
            "\n",
            "    accuracy                           0.73      7070\n",
            "   macro avg       0.74      0.72      0.72      7070\n",
            "weighted avg       0.73      0.73      0.73      7070\n",
            "\n",
            "\n",
            "\n"
          ]
        }
      ]
    },
    {
      "cell_type": "markdown",
      "source": [
        "## Confusion Matrix"
      ],
      "metadata": {
        "id": "zEvmTavnTZIt"
      }
    },
    {
      "cell_type": "markdown",
      "source": [
        "### Decision Tree CM"
      ],
      "metadata": {
        "id": "ZSnndZ-PT6ga"
      }
    },
    {
      "cell_type": "code",
      "source": [
        "dtm = confusion_matrix(y_test, y_predict_dt)\n",
        "plt.figure(figsize=(16,10))\n",
        "plt.title('Decision Tree Confusion Matrix')\n",
        "sns.heatmap(dtm, annot=True, fmt=\"d\", linewidths=.5, cmap = 'YlGnBu')"
      ],
      "metadata": {
        "colab": {
          "base_uri": "https://localhost:8080/",
          "height": 626
        },
        "id": "JaMwSUv2TamE",
        "outputId": "4143d7d8-8202-4216-87a6-aa05d2cfcf4d"
      },
      "execution_count": 104,
      "outputs": [
        {
          "output_type": "execute_result",
          "data": {
            "text/plain": [
              "<matplotlib.axes._subplots.AxesSubplot at 0x7f926bcb8430>"
            ]
          },
          "metadata": {},
          "execution_count": 104
        },
        {
          "output_type": "display_data",
          "data": {
            "text/plain": [
              "<Figure size 1152x720 with 2 Axes>"
            ],
            "image/png": "[encoded data removed]"
          },
          "metadata": {}
        }
      ]
    },
    {
      "cell_type": "markdown",
      "source": [
        "### Random Forest CM"
      ],
      "metadata": {
        "id": "l9hGAf0EULaq"
      }
    },
    {
      "cell_type": "code",
      "source": [
        "rfm = confusion_matrix(y_test, y_predict_forest)\n",
        "plt.figure(figsize=(16,10))\n",
        "plt.title('Random Forest Confusion Matrix')\n",
        "sns.heatmap(rfm, annot=True, fmt=\"d\", linewidths=.5, cmap = 'YlGnBu')"
      ],
      "metadata": {
        "colab": {
          "base_uri": "https://localhost:8080/",
          "height": 626
        },
        "id": "JH2Sf2TjUPK6",
        "outputId": "1cfc0c1f-d3c0-4d37-f90b-0f51bc954038"
      },
      "execution_count": 105,
      "outputs": [
        {
          "output_type": "execute_result",
          "data": {
            "text/plain": [
              "<matplotlib.axes._subplots.AxesSubplot at 0x7f926c12b9d0>"
            ]
          },
          "metadata": {},
          "execution_count": 105
        },
        {
          "output_type": "display_data",
          "data": {
            "text/plain": [
              "<Figure size 1152x720 with 2 Axes>"
            ],
            "image/png": "[encoded data removed]"
          },
          "metadata": {}
        }
      ]
    },
    {
      "cell_type": "markdown",
      "source": [
        "### SVM Classifier CM"
      ],
      "metadata": {
        "id": "2Py5mBhVUT7C"
      }
    },
    {
      "cell_type": "code",
      "source": [
        "svmm = confusion_matrix(y_test, y_predict_svm)\n",
        "plt.figure(figsize=(16,10))\n",
        "plt.title('SVM Classifier Confusion Matrix')\n",
        "sns.heatmap(svmm, annot=True, fmt=\"d\", linewidths=.5, cmap = 'YlGnBu')"
      ],
      "metadata": {
        "colab": {
          "base_uri": "https://localhost:8080/",
          "height": 626
        },
        "id": "a_TnhnoeUxvb",
        "outputId": "26d63528-fc4f-4c39-ef37-9fe8b504ec55"
      },
      "execution_count": 106,
      "outputs": [
        {
          "output_type": "execute_result",
          "data": {
            "text/plain": [
              "<matplotlib.axes._subplots.AxesSubplot at 0x7f926b4660d0>"
            ]
          },
          "metadata": {},
          "execution_count": 106
        },
        {
          "output_type": "display_data",
          "data": {
            "text/plain": [
              "<Figure size 1152x720 with 2 Axes>"
            ],
            "image/png": "[encoded data removed]"
          },
          "metadata": {}
        }
      ]
    },
    {
      "cell_type": "markdown",
      "source": [
        "### SVM Classifier With Bagging CM"
      ],
      "metadata": {
        "id": "KDNtDOHmUYpj"
      }
    },
    {
      "cell_type": "code",
      "source": [
        "svmmb = confusion_matrix(y_test, y_predict_bag_svc)\n",
        "plt.figure(figsize=(16,10))\n",
        "plt.title('SVM Classifier With Bagging Confusion Matrix')\n",
        "sns.heatmap(svmmb, annot=True, fmt=\"d\", linewidths=.5, cmap = 'YlGnBu')"
      ],
      "metadata": {
        "colab": {
          "base_uri": "https://localhost:8080/",
          "height": 626
        },
        "id": "BB3pB2ZhU6-z",
        "outputId": "fb60c8eb-58cf-49c8-8410-417dceb7c63a"
      },
      "execution_count": 107,
      "outputs": [
        {
          "output_type": "execute_result",
          "data": {
            "text/plain": [
              "<matplotlib.axes._subplots.AxesSubplot at 0x7f926b4a6310>"
            ]
          },
          "metadata": {},
          "execution_count": 107
        },
        {
          "output_type": "display_data",
          "data": {
            "text/plain": [
              "<Figure size 1152x720 with 2 Axes>"
            ],
            "image/png": "[encoded data removed]"
          },
          "metadata": {}
        }
      ]
    },
    {
      "cell_type": "markdown",
      "source": [
        "### Extra Tree Classifier CM"
      ],
      "metadata": {
        "id": "B9D7yPkJUcQS"
      }
    },
    {
      "cell_type": "code",
      "source": [
        "xtm = confusion_matrix(y_test, y_predict_extra_tree)\n",
        "plt.figure(figsize=(16,10))\n",
        "plt.title('Extra Tree Classifier Confusion Matrix')\n",
        "sns.heatmap(xtm, annot=True, fmt=\"d\", linewidths=.5, cmap = 'YlGnBu')"
      ],
      "metadata": {
        "colab": {
          "base_uri": "https://localhost:8080/",
          "height": 626
        },
        "id": "VLWD92qKVDWC",
        "outputId": "070faf7d-c3ea-4890-f14c-226894a4222f"
      },
      "execution_count": 108,
      "outputs": [
        {
          "output_type": "execute_result",
          "data": {
            "text/plain": [
              "<matplotlib.axes._subplots.AxesSubplot at 0x7f926b332b50>"
            ]
          },
          "metadata": {},
          "execution_count": 108
        },
        {
          "output_type": "display_data",
          "data": {
            "text/plain": [
              "<Figure size 1152x720 with 2 Axes>"
            ],
            "image/png": "[encoded data removed]"
          },
          "metadata": {}
        }
      ]
    },
    {
      "cell_type": "markdown",
      "source": [
        "### Logistic Regression CM"
      ],
      "metadata": {
        "id": "g5l6xFazUeeL"
      }
    },
    {
      "cell_type": "code",
      "source": [
        "lgrm = confusion_matrix(y_test, y_predict_lgr)\n",
        "plt.figure(figsize=(16,10))\n",
        "plt.title('Logistic Regression Confusion Matrix')\n",
        "sns.heatmap(lgrm, annot=True, fmt=\"d\", linewidths=.5, cmap = 'YlGnBu')"
      ],
      "metadata": {
        "colab": {
          "base_uri": "https://localhost:8080/",
          "height": 626
        },
        "id": "v_Erec41VJVj",
        "outputId": "2614e315-b49f-4b02-ec6b-f51a24e9d1db"
      },
      "execution_count": 109,
      "outputs": [
        {
          "output_type": "execute_result",
          "data": {
            "text/plain": [
              "<matplotlib.axes._subplots.AxesSubplot at 0x7f926b2decd0>"
            ]
          },
          "metadata": {},
          "execution_count": 109
        },
        {
          "output_type": "display_data",
          "data": {
            "text/plain": [
              "<Figure size 1152x720 with 2 Axes>"
            ],
            "image/png": "[encoded data removed]"
          },
          "metadata": {}
        }
      ]
    },
    {
      "cell_type": "markdown",
      "source": [
        "### Logistic Regression With Bagging CM"
      ],
      "metadata": {
        "id": "2o4h-ZaxUh5c"
      }
    },
    {
      "cell_type": "code",
      "source": [
        "lgrmb = confusion_matrix(y_test, y_predict_bag_lgr)\n",
        "plt.figure(figsize=(16,10))\n",
        "plt.title('Logistic Regression With Bagging Confusion Matrix')\n",
        "sns.heatmap(lgrmb, annot=True, fmt=\"d\", linewidths=.5, cmap = 'YlGnBu')"
      ],
      "metadata": {
        "colab": {
          "base_uri": "https://localhost:8080/",
          "height": 626
        },
        "id": "qYutyNRxVrrD",
        "outputId": "44ca3e8e-9717-472c-9615-99b5b5eac3ba"
      },
      "execution_count": 111,
      "outputs": [
        {
          "output_type": "execute_result",
          "data": {
            "text/plain": [
              "<matplotlib.axes._subplots.AxesSubplot at 0x7f926b184c10>"
            ]
          },
          "metadata": {},
          "execution_count": 111
        },
        {
          "output_type": "display_data",
          "data": {
            "text/plain": [
              "<Figure size 1152x720 with 2 Axes>"
            ],
            "image/png": "[encoded data removed]"
          },
          "metadata": {}
        }
      ]
    },
    {
      "cell_type": "markdown",
      "source": [
        "### Logistic Regression With AdaBoost CM"
      ],
      "metadata": {
        "id": "tu-XBjXEUoRj"
      }
    },
    {
      "cell_type": "code",
      "source": [
        "adam = confusion_matrix(y_test, y_predict_ada_clf)\n",
        "plt.figure(figsize=(16,10))\n",
        "plt.title('Logistic Regression With AdaBoost Confusion Matrix')\n",
        "sns.heatmap(adam, annot=True, fmt=\"d\", linewidths=.5, cmap = 'YlGnBu')"
      ],
      "metadata": {
        "colab": {
          "base_uri": "https://localhost:8080/",
          "height": 626
        },
        "id": "SPzaB7W6VsD8",
        "outputId": "8e50634c-4a5e-406d-8e4b-76b2190e0905"
      },
      "execution_count": 112,
      "outputs": [
        {
          "output_type": "execute_result",
          "data": {
            "text/plain": [
              "<matplotlib.axes._subplots.AxesSubplot at 0x7f926b196bb0>"
            ]
          },
          "metadata": {},
          "execution_count": 112
        },
        {
          "output_type": "display_data",
          "data": {
            "text/plain": [
              "<Figure size 1152x720 with 2 Axes>"
            ],
            "image/png": "[encoded data removed]"
          },
          "metadata": {}
        }
      ]
    },
    {
      "cell_type": "markdown",
      "source": [
        "### Voting Classifier CM"
      ],
      "metadata": {
        "id": "7BFrwxlBUsP8"
      }
    },
    {
      "cell_type": "code",
      "source": [
        "votingm = confusion_matrix(y_test, y_predict_voting_clf)\n",
        "plt.figure(figsize=(16,10))\n",
        "plt.title('Voting Classifier Confusion Matrix')\n",
        "sns.heatmap(votingm, annot=True, fmt=\"d\", linewidths=.5, cmap = 'YlGnBu')"
      ],
      "metadata": {
        "colab": {
          "base_uri": "https://localhost:8080/",
          "height": 626
        },
        "id": "Zy7mEes5Ugt0",
        "outputId": "5e360458-b4bf-461d-f12b-ca3ecacee9a5"
      },
      "execution_count": 113,
      "outputs": [
        {
          "output_type": "execute_result",
          "data": {
            "text/plain": [
              "<matplotlib.axes._subplots.AxesSubplot at 0x7f926af79c40>"
            ]
          },
          "metadata": {},
          "execution_count": 113
        },
        {
          "output_type": "display_data",
          "data": {
            "text/plain": [
              "<Figure size 1152x720 with 2 Axes>"
            ],
            "image/png": "[encoded data removed]"
          },
          "metadata": {}
        }
      ]
    },
    {
      "cell_type": "code",
      "source": [
        "pickle.dump(voting_clf,open('voting_clf_fpkk.pkl','wb'))"
      ],
      "metadata": {
        "id": "Cu9PfT5YWwCq"
      },
      "execution_count": 114,
      "outputs": []
    },
    {
      "cell_type": "markdown",
      "metadata": {
        "id": "T_Kkr3-RDIJg"
      },
      "source": [
        "# Kesimpulan - Rev & Damas\n",
        "\n",
        "Dari Model yang telah dikembangkan, didapatkan model yang paling optimal adalah **Voting Classifier** yang mana memiliki akurasi tinggi untuk menentukan pasien apakah menderita hipertensi"
      ]
    }
  ],
  "metadata": {
    "colab": {
      "provenance": []
    },
    "kernelspec": {
      "display_name": "Python 3",
      "name": "python3"
    },
    "language_info": {
      "name": "python"
    }
  },
  "nbformat": 4,
  "nbformat_minor": 0
}